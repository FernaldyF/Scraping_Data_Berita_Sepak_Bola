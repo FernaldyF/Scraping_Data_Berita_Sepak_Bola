{
 "cells": [
  {
   "cell_type": "markdown",
   "metadata": {},
   "source": [
    "Nama: Fernaldy Ferdinand\n",
    "\n",
    "NIM: 2602068605\n",
    "\n",
    "Link Video: https://binusianorg-my.sharepoint.com/personal/fernaldy_ferdinand_binus_ac_id/_layouts/15/guestaccess.aspx?share=Ehfll6SHUSFMh_qrjFnFBqYBWZegsbExpeJy6z6KxyTG0Q&e=NM5lfA"
   ]
  },
  {
   "cell_type": "code",
   "execution_count": 99,
   "metadata": {},
   "outputs": [],
   "source": [
    "# Import libraries\n",
    "import pandas as pd\n",
    "import numpy as np\n",
    "import time\n",
    "import requests\n",
    "from bs4 import BeautifulSoup"
   ]
  },
  {
   "cell_type": "code",
   "execution_count": 100,
   "metadata": {},
   "outputs": [],
   "source": [
    "def scrap_kompas():\n",
    "    url = \"https://indeks.kompas.com/?source=navbar&site=bola&page={}\"\n",
    "    artikel = []\n",
    "    seen_titles = set()  # Gunakan set untuk menyimpan judul yang sudah diambil\n",
    "    for page in range(1, 7):  # Loop untuk halaman 1 sampai 6\n",
    "        print(f\"Fetching page {page}: {url.format(page)}\")\n",
    "        response = requests.get(url.format(page))\n",
    "        if response.status_code != 200:\n",
    "            print(f\"Failed to fetch page {page}: {response.status_code}\")\n",
    "            continue\n",
    "        soup = BeautifulSoup(response.text, \"html.parser\")\n",
    "        # Cari elemen <figcaption> yang berisi artikel\n",
    "        for article in soup.find_all(\"div\", class_ = \"articleItem\"):\n",
    "            title = article.find(\"h2\").get_text(strip=True) if article.find(\"h2\") else None\n",
    "            link = article.find(\"a\")[\"href\"] if article.find(\"a\") else None\n",
    "            \n",
    "            # Pastikan artikel belum pernah diambil sebelumnya\n",
    "            if title and link and title not in seen_titles:\n",
    "                artikel.append({\"text\": title, \"Media\": \"kompas.com\", \"Link\": link})\n",
    "                seen_titles.add(title)  # Tambahkan judul ke set\n",
    "                \n",
    "                if len(artikel) >= 50:  # Batasi hanya 50 artikel\n",
    "                    print(\"Collected 50 articles. Stopping...\")\n",
    "                    return artikel\n",
    "        # Tambahkan jeda untuk menghindari blokir server\n",
    "        time.sleep(1)\n",
    "    return artikel"
   ]
  },
  {
   "cell_type": "code",
   "execution_count": 101,
   "metadata": {},
   "outputs": [],
   "source": [
    "def scrap_detik_sport():\n",
    "    url = \"https://sport.detik.com/sepakbola/indeks?page={}\"\n",
    "    artikel = []\n",
    "    seen_titles = set()  # Gunakan set untuk menyimpan judul yang sudah diambil\n",
    "    for page in range(1, 7):  # Loop untuk halaman 1 sampai 6\n",
    "        print(f\"Fetching page {page}: {url.format(page)}\")\n",
    "        response = requests.get(url.format(page))\n",
    "        if response.status_code != 200:\n",
    "            print(f\"Failed to fetch page {page}: {response.status_code}\")\n",
    "            continue\n",
    "        soup = BeautifulSoup(response.text, \"html.parser\")\n",
    "        # Cari elemen <figcaption> yang berisi artikel\n",
    "        for article in soup.find_all(\"div\", class_ = \"media__text\"):\n",
    "            title = article.find(\"h3\").get_text(strip=True) if article.find(\"h3\") else None\n",
    "            link = article.find(\"a\")[\"href\"] if article.find(\"a\") else None\n",
    "            \n",
    "            # Pastikan artikel belum pernah diambil sebelumnya\n",
    "            if title and link and title not in seen_titles:\n",
    "                artikel.append({\"text\": title, \"Media\": \"kompas.com\", \"Link\": link})\n",
    "                seen_titles.add(title)  # Tambahkan judul ke set\n",
    "                \n",
    "                if len(artikel) >= 50:  # Batasi hanya 50 artikel\n",
    "                    print(\"Collected 50 articles. Stopping...\")\n",
    "                    return artikel\n",
    "        # Tambahkan jeda untuk menghindari blokir server\n",
    "        time.sleep(1)\n",
    "    return artikel"
   ]
  },
  {
   "cell_type": "markdown",
   "metadata": {},
   "source": [
    "Fungsi diatas digunakan untuk mengumpulkan artikel dari halaman web, khususnya yang terkait dengan olahraga, dengan mengambil artikel dari halaman 1 hingga 6. Setiap artikel yang berhasil diambil memiliki judul dan link yang disimpan dalam list artikel, dengan pengecekan untuk memastikan artikel yang sama tidak diambil lebih dari sekali menggunakan set seen_titles. Fungsi ini membatasi pengambilan hingga 50 artikel dan menambahkan jeda 1 detik antara permintaan untuk menghindari pemblokiran server. Setelah mencapai batas artikel yang ditentukan, fungsi mengembalikan list artikel yang terkumpul."
   ]
  },
  {
   "cell_type": "code",
   "execution_count": 102,
   "metadata": {},
   "outputs": [],
   "source": [
    "def labeled(row):\n",
    "    text = row[\"text\"].lower()\n",
    "    if any(keyword in text for keyword in [\"man united\", \"mu\", \"chelsea\", \"liga inggris\", \"premier league\", \"manchester united\", \"manchester city\", \"liverpool\"]):\n",
    "        return \"Liga Inggris\"\n",
    "    elif any(keyword in text for keyword in [\"liga 1\",\"liga 2\", \"timnas\", \"persib\", \"indonesia\"]):\n",
    "        return \"Liga Indonesia\"\n",
    "    elif any(keyword in text for keyword in [\"copa del rey\", \"la liga\", \"barcelona\", \"real madrid\", \"liga spanyol\"]):\n",
    "        return \"Liga Spanyol\"\n",
    "    elif any(keyword in text for keyword in [\"serie a\", \"ac milan\", \"juventus\", \"inter milan\", \"liga italia\"]):\n",
    "        return \"Liga Italia\"\n",
    "    else:\n",
    "        return \"Olahraga Non Sepak Bola\" "
   ]
  },
  {
   "cell_type": "markdown",
   "metadata": {},
   "source": [
    "Fungsi digunakan untuk memberi label pada artikel berdasarkan kata kunci yang ada dalam teks. Fungsi ini pertama-tama mengubah teks menjadi huruf kecil untuk pencocokan yang tidak peka huruf besar/kecil. Kemudian, ia memeriksa apakah teks mengandung kata kunci tertentu yang terkait dengan liga sepak bola tertentu, seperti \"Liga Inggris\", \"Liga Indonesia\", \"Liga Spanyol\", dan \"Liga Italia\". Jika kata kunci ditemukan, artikel diberi label sesuai dengan liga tersebut. Jika tidak ada kecocokan, artikel diberi label \"Olahraga Non Sepak Bola\" sebagai label default."
   ]
  },
  {
   "cell_type": "code",
   "execution_count": 103,
   "metadata": {},
   "outputs": [
    {
     "name": "stdout",
     "output_type": "stream",
     "text": [
      "Fetching page 1: https://indeks.kompas.com/?source=navbar&site=bola&page=1\n",
      "Fetching page 2: https://indeks.kompas.com/?source=navbar&site=bola&page=2\n",
      "Fetching page 3: https://indeks.kompas.com/?source=navbar&site=bola&page=3\n",
      "Fetching page 4: https://indeks.kompas.com/?source=navbar&site=bola&page=4\n",
      "Collected 50 articles. Stopping...\n"
     ]
    }
   ],
   "source": [
    "kompas = scrap_kompas()"
   ]
  },
  {
   "cell_type": "code",
   "execution_count": 104,
   "metadata": {},
   "outputs": [],
   "source": [
    "df_kompas = pd.DataFrame(kompas)\n",
    "df_kompas.to_csv(\"kompas_articles.csv\", index=False)"
   ]
  },
  {
   "cell_type": "code",
   "execution_count": 105,
   "metadata": {},
   "outputs": [
    {
     "name": "stdout",
     "output_type": "stream",
     "text": [
      "<class 'pandas.core.frame.DataFrame'>\n",
      "RangeIndex: 50 entries, 0 to 49\n",
      "Data columns (total 3 columns):\n",
      " #   Column  Non-Null Count  Dtype \n",
      "---  ------  --------------  ----- \n",
      " 0   text    50 non-null     object\n",
      " 1   Media   50 non-null     object\n",
      " 2   Link    50 non-null     object\n",
      "dtypes: object(3)\n",
      "memory usage: 1.3+ KB\n"
     ]
    }
   ],
   "source": [
    "df_kompas.info()"
   ]
  },
  {
   "cell_type": "code",
   "execution_count": 106,
   "metadata": {},
   "outputs": [],
   "source": [
    "df_kompas[\"Label\"] = df_kompas.apply(labeled, axis=1)"
   ]
  },
  {
   "cell_type": "code",
   "execution_count": 107,
   "metadata": {},
   "outputs": [
    {
     "name": "stdout",
     "output_type": "stream",
     "text": [
      "<class 'pandas.core.frame.DataFrame'>\n",
      "RangeIndex: 50 entries, 0 to 49\n",
      "Data columns (total 4 columns):\n",
      " #   Column  Non-Null Count  Dtype \n",
      "---  ------  --------------  ----- \n",
      " 0   text    50 non-null     object\n",
      " 1   Media   50 non-null     object\n",
      " 2   Link    50 non-null     object\n",
      " 3   Label   50 non-null     object\n",
      "dtypes: object(4)\n",
      "memory usage: 1.7+ KB\n"
     ]
    }
   ],
   "source": [
    "df_kompas.info()"
   ]
  },
  {
   "cell_type": "code",
   "execution_count": 108,
   "metadata": {},
   "outputs": [
    {
     "data": {
      "text/plain": [
       "Liga Indonesia             25\n",
       "Olahraga Non Sepak Bola    11\n",
       "Liga Inggris               10\n",
       "Liga Italia                 3\n",
       "Liga Spanyol                1\n",
       "Name: Label, dtype: int64"
      ]
     },
     "execution_count": 108,
     "metadata": {},
     "output_type": "execute_result"
    }
   ],
   "source": [
    "df_kompas['Label'].value_counts()"
   ]
  },
  {
   "cell_type": "code",
   "execution_count": 109,
   "metadata": {},
   "outputs": [
    {
     "name": "stdout",
     "output_type": "stream",
     "text": [
      "Fetching page 1: https://sport.detik.com/sepakbola/indeks?page=1\n",
      "Fetching page 2: https://sport.detik.com/sepakbola/indeks?page=2\n",
      "Fetching page 3: https://sport.detik.com/sepakbola/indeks?page=3\n",
      "Collected 50 articles. Stopping...\n"
     ]
    }
   ],
   "source": [
    "detik_sport = scrap_detik_sport()"
   ]
  },
  {
   "cell_type": "code",
   "execution_count": 110,
   "metadata": {},
   "outputs": [],
   "source": [
    "df_detik = pd.DataFrame(detik_sport)\n",
    "df_detik.to_csv(\"detik_sport_articles.csv\", index=False)"
   ]
  },
  {
   "cell_type": "code",
   "execution_count": 111,
   "metadata": {},
   "outputs": [
    {
     "name": "stdout",
     "output_type": "stream",
     "text": [
      "<class 'pandas.core.frame.DataFrame'>\n",
      "RangeIndex: 50 entries, 0 to 49\n",
      "Data columns (total 3 columns):\n",
      " #   Column  Non-Null Count  Dtype \n",
      "---  ------  --------------  ----- \n",
      " 0   text    50 non-null     object\n",
      " 1   Media   50 non-null     object\n",
      " 2   Link    50 non-null     object\n",
      "dtypes: object(3)\n",
      "memory usage: 1.3+ KB\n"
     ]
    }
   ],
   "source": [
    "df_detik.info()"
   ]
  },
  {
   "cell_type": "code",
   "execution_count": 112,
   "metadata": {},
   "outputs": [],
   "source": [
    "df_detik[\"Label\"] = df_detik.apply(labeled, axis=1)"
   ]
  },
  {
   "cell_type": "code",
   "execution_count": 113,
   "metadata": {},
   "outputs": [
    {
     "data": {
      "text/plain": [
       "Liga Inggris               20\n",
       "Olahraga Non Sepak Bola    16\n",
       "Liga Indonesia             10\n",
       "Liga Italia                 3\n",
       "Liga Spanyol                1\n",
       "Name: Label, dtype: int64"
      ]
     },
     "execution_count": 113,
     "metadata": {},
     "output_type": "execute_result"
    }
   ],
   "source": [
    "df_detik[\"Label\"].value_counts()"
   ]
  },
  {
   "cell_type": "markdown",
   "metadata": {},
   "source": [
    "Penggabungan 2 data artikel berbeda"
   ]
  },
  {
   "cell_type": "code",
   "execution_count": 114,
   "metadata": {},
   "outputs": [
    {
     "name": "stdout",
     "output_type": "stream",
     "text": [
      "<class 'pandas.core.frame.DataFrame'>\n",
      "RangeIndex: 100 entries, 0 to 99\n",
      "Data columns (total 3 columns):\n",
      " #   Column  Non-Null Count  Dtype \n",
      "---  ------  --------------  ----- \n",
      " 0   text    100 non-null    object\n",
      " 1   Media   100 non-null    object\n",
      " 2   Link    100 non-null    object\n",
      "dtypes: object(3)\n",
      "memory usage: 2.5+ KB\n"
     ]
    }
   ],
   "source": [
    "artikel = kompas + detik_sport\n",
    "df = pd.DataFrame(artikel)\n",
    "df.info()"
   ]
  },
  {
   "cell_type": "code",
   "execution_count": 115,
   "metadata": {},
   "outputs": [
    {
     "data": {
      "text/html": [
       "<div>\n",
       "<style scoped>\n",
       "    .dataframe tbody tr th:only-of-type {\n",
       "        vertical-align: middle;\n",
       "    }\n",
       "\n",
       "    .dataframe tbody tr th {\n",
       "        vertical-align: top;\n",
       "    }\n",
       "\n",
       "    .dataframe thead th {\n",
       "        text-align: right;\n",
       "    }\n",
       "</style>\n",
       "<table border=\"1\" class=\"dataframe\">\n",
       "  <thead>\n",
       "    <tr style=\"text-align: right;\">\n",
       "      <th></th>\n",
       "      <th>text</th>\n",
       "      <th>Media</th>\n",
       "      <th>Link</th>\n",
       "    </tr>\n",
       "  </thead>\n",
       "  <tbody>\n",
       "    <tr>\n",
       "      <th>0</th>\n",
       "      <td>Arema FC Kalah Lagi, Arkhan Fikri Ungkap Fakto...</td>\n",
       "      <td>kompas.com</td>\n",
       "      <td>https://bola.kompas.com/read/2025/01/24/234728...</td>\n",
       "    </tr>\n",
       "    <tr>\n",
       "      <th>1</th>\n",
       "      <td>Klasemen Sementara Liga 1: Persib Jauh di Depa...</td>\n",
       "      <td>kompas.com</td>\n",
       "      <td>https://bola.kompas.com/read/2025/01/24/234339...</td>\n",
       "    </tr>\n",
       "    <tr>\n",
       "      <th>2</th>\n",
       "      <td>Alasan Jens Raven Absen dari laga Timnas U20 I...</td>\n",
       "      <td>kompas.com</td>\n",
       "      <td>https://bola.kompas.com/read/2025/01/24/231232...</td>\n",
       "    </tr>\n",
       "    <tr>\n",
       "      <th>3</th>\n",
       "      <td>Peluang Baru Atlet Bisbol Indonesia Berprestas...</td>\n",
       "      <td>kompas.com</td>\n",
       "      <td>https://www.kompas.com/sports/read/2025/01/24/...</td>\n",
       "    </tr>\n",
       "    <tr>\n",
       "      <th>4</th>\n",
       "      <td>Cetak Brace di Persib Vs Arema, Tyronne Del Pi...</td>\n",
       "      <td>kompas.com</td>\n",
       "      <td>https://bola.kompas.com/read/2025/01/24/225847...</td>\n",
       "    </tr>\n",
       "  </tbody>\n",
       "</table>\n",
       "</div>"
      ],
      "text/plain": [
       "                                                text       Media  \\\n",
       "0  Arema FC Kalah Lagi, Arkhan Fikri Ungkap Fakto...  kompas.com   \n",
       "1  Klasemen Sementara Liga 1: Persib Jauh di Depa...  kompas.com   \n",
       "2  Alasan Jens Raven Absen dari laga Timnas U20 I...  kompas.com   \n",
       "3  Peluang Baru Atlet Bisbol Indonesia Berprestas...  kompas.com   \n",
       "4  Cetak Brace di Persib Vs Arema, Tyronne Del Pi...  kompas.com   \n",
       "\n",
       "                                                Link  \n",
       "0  https://bola.kompas.com/read/2025/01/24/234728...  \n",
       "1  https://bola.kompas.com/read/2025/01/24/234339...  \n",
       "2  https://bola.kompas.com/read/2025/01/24/231232...  \n",
       "3  https://www.kompas.com/sports/read/2025/01/24/...  \n",
       "4  https://bola.kompas.com/read/2025/01/24/225847...  "
      ]
     },
     "execution_count": 115,
     "metadata": {},
     "output_type": "execute_result"
    }
   ],
   "source": [
    "df.head()"
   ]
  },
  {
   "cell_type": "code",
   "execution_count": 116,
   "metadata": {},
   "outputs": [],
   "source": [
    "df['Label'] = df.apply(labeled, axis= 1)"
   ]
  },
  {
   "cell_type": "code",
   "execution_count": 117,
   "metadata": {},
   "outputs": [
    {
     "data": {
      "text/html": [
       "<div>\n",
       "<style scoped>\n",
       "    .dataframe tbody tr th:only-of-type {\n",
       "        vertical-align: middle;\n",
       "    }\n",
       "\n",
       "    .dataframe tbody tr th {\n",
       "        vertical-align: top;\n",
       "    }\n",
       "\n",
       "    .dataframe thead th {\n",
       "        text-align: right;\n",
       "    }\n",
       "</style>\n",
       "<table border=\"1\" class=\"dataframe\">\n",
       "  <thead>\n",
       "    <tr style=\"text-align: right;\">\n",
       "      <th></th>\n",
       "      <th>text</th>\n",
       "      <th>Media</th>\n",
       "      <th>Link</th>\n",
       "      <th>Label</th>\n",
       "    </tr>\n",
       "  </thead>\n",
       "  <tbody>\n",
       "    <tr>\n",
       "      <th>0</th>\n",
       "      <td>Arema FC Kalah Lagi, Arkhan Fikri Ungkap Fakto...</td>\n",
       "      <td>kompas.com</td>\n",
       "      <td>https://bola.kompas.com/read/2025/01/24/234728...</td>\n",
       "      <td>Olahraga Non Sepak Bola</td>\n",
       "    </tr>\n",
       "    <tr>\n",
       "      <th>1</th>\n",
       "      <td>Klasemen Sementara Liga 1: Persib Jauh di Depa...</td>\n",
       "      <td>kompas.com</td>\n",
       "      <td>https://bola.kompas.com/read/2025/01/24/234339...</td>\n",
       "      <td>Liga Indonesia</td>\n",
       "    </tr>\n",
       "    <tr>\n",
       "      <th>2</th>\n",
       "      <td>Alasan Jens Raven Absen dari laga Timnas U20 I...</td>\n",
       "      <td>kompas.com</td>\n",
       "      <td>https://bola.kompas.com/read/2025/01/24/231232...</td>\n",
       "      <td>Liga Indonesia</td>\n",
       "    </tr>\n",
       "    <tr>\n",
       "      <th>3</th>\n",
       "      <td>Peluang Baru Atlet Bisbol Indonesia Berprestas...</td>\n",
       "      <td>kompas.com</td>\n",
       "      <td>https://www.kompas.com/sports/read/2025/01/24/...</td>\n",
       "      <td>Liga Indonesia</td>\n",
       "    </tr>\n",
       "    <tr>\n",
       "      <th>4</th>\n",
       "      <td>Cetak Brace di Persib Vs Arema, Tyronne Del Pi...</td>\n",
       "      <td>kompas.com</td>\n",
       "      <td>https://bola.kompas.com/read/2025/01/24/225847...</td>\n",
       "      <td>Liga Indonesia</td>\n",
       "    </tr>\n",
       "  </tbody>\n",
       "</table>\n",
       "</div>"
      ],
      "text/plain": [
       "                                                text       Media  \\\n",
       "0  Arema FC Kalah Lagi, Arkhan Fikri Ungkap Fakto...  kompas.com   \n",
       "1  Klasemen Sementara Liga 1: Persib Jauh di Depa...  kompas.com   \n",
       "2  Alasan Jens Raven Absen dari laga Timnas U20 I...  kompas.com   \n",
       "3  Peluang Baru Atlet Bisbol Indonesia Berprestas...  kompas.com   \n",
       "4  Cetak Brace di Persib Vs Arema, Tyronne Del Pi...  kompas.com   \n",
       "\n",
       "                                                Link                    Label  \n",
       "0  https://bola.kompas.com/read/2025/01/24/234728...  Olahraga Non Sepak Bola  \n",
       "1  https://bola.kompas.com/read/2025/01/24/234339...           Liga Indonesia  \n",
       "2  https://bola.kompas.com/read/2025/01/24/231232...           Liga Indonesia  \n",
       "3  https://www.kompas.com/sports/read/2025/01/24/...           Liga Indonesia  \n",
       "4  https://bola.kompas.com/read/2025/01/24/225847...           Liga Indonesia  "
      ]
     },
     "execution_count": 117,
     "metadata": {},
     "output_type": "execute_result"
    }
   ],
   "source": [
    "df.head()"
   ]
  },
  {
   "cell_type": "markdown",
   "metadata": {},
   "source": [
    "Menyimpan data kebentuk csv"
   ]
  },
  {
   "cell_type": "code",
   "execution_count": 118,
   "metadata": {},
   "outputs": [],
   "source": [
    "df.to_csv(\"artikel_sepak_bola.csv\", index=False)"
   ]
  },
  {
   "cell_type": "code",
   "execution_count": 119,
   "metadata": {},
   "outputs": [
    {
     "data": {
      "text/plain": [
       "Liga Indonesia             35\n",
       "Liga Inggris               30\n",
       "Olahraga Non Sepak Bola    27\n",
       "Liga Italia                 6\n",
       "Liga Spanyol                2\n",
       "Name: Label, dtype: int64"
      ]
     },
     "execution_count": 119,
     "metadata": {},
     "output_type": "execute_result"
    }
   ],
   "source": [
    "df['Label'].value_counts()"
   ]
  },
  {
   "cell_type": "code",
   "execution_count": 120,
   "metadata": {},
   "outputs": [
    {
     "data": {
      "image/png": "[encoded data removed]",
      "text/plain": [
       "<Figure size 1000x800 with 1 Axes>"
      ]
     },
     "metadata": {},
     "output_type": "display_data"
    }
   ],
   "source": [
    "import matplotlib.pyplot as plt\n",
    "label_counts = df['Label'].value_counts()\n",
    "\n",
    "# Plot\n",
    "plt.figure(figsize=(10, 8))\n",
    "label_counts.plot(kind='bar', color=['blue', 'orange', 'green', 'red', 'purple'])\n",
    "plt.title('Distribusi Label')\n",
    "plt.xlabel('Label')\n",
    "plt.ylabel('Jumlah')\n",
    "plt.xticks(rotation=0)\n",
    "plt.tight_layout()\n",
    "plt.show()"
   ]
  },
  {
   "cell_type": "code",
   "execution_count": 121,
   "metadata": {},
   "outputs": [
    {
     "data": {
      "text/plain": [
       "text     0\n",
       "Media    0\n",
       "Link     0\n",
       "Label    0\n",
       "dtype: int64"
      ]
     },
     "execution_count": 121,
     "metadata": {},
     "output_type": "execute_result"
    }
   ],
   "source": [
    "df.isna().sum()"
   ]
  },
  {
   "cell_type": "code",
   "execution_count": 122,
   "metadata": {},
   "outputs": [],
   "source": [
    "import re\n",
    "from nltk.corpus import stopwords\n",
    "from nltk.tokenize import word_tokenize\n",
    "from nltk.stem import PorterStemmer, WordNetLemmatizer"
   ]
  },
  {
   "cell_type": "code",
   "execution_count": 123,
   "metadata": {},
   "outputs": [],
   "source": [
    "def preprocess_text(text):\n",
    "    #Cleaning\n",
    "    text = re.sub(r'[^a-zA-Z\\s]', '', text)\n",
    "    text = re.sub(r'[^\\w\\s]', '', text)  # Menghapus tanda baca\n",
    "    text = re.sub(r'\\d+', '', text)\n",
    "    text = text.lower()\n",
    "    \n",
    "    #Tokenize\n",
    "    token = word_tokenize(text)\n",
    "    \n",
    "    #Stopword / Filtering\n",
    "    stop_word = set(stopwords.words('indonesian'))\n",
    "    token = [Word for Word in token if Word not in stop_word]\n",
    "    \n",
    "    # Stemming and Lemmatize\n",
    "    lemmatizer = WordNetLemmatizer()\n",
    "    stemmed_tokens = [lemmatizer.lemmatize(word) for word in token]\n",
    "\n",
    "    return ' '.join(stemmed_tokens)"
   ]
  },
  {
   "cell_type": "markdown",
   "metadata": {},
   "source": [
    "Membuat fungsi untuk memproses teks dengan beberapa tahapan pembersihan dan pemrosesan bahasa alami. Pertama, teks dibersihkan dengan menghapus karakter non-huruf, tanda baca, dan angka, serta mengubah teks menjadi huruf kecil. Kemudian, teks di-tokenisasi menggunakan word_tokenize untuk memecah teks menjadi kata-kata. Selanjutnya, stopword dalam bahasa Indonesia dihapus dengan memfilter kata-kata yang ada dalam daftar stopwords. Terakhir, setiap kata yang tersisa dikenakan lemmatization menggunakan WordNetLemmatizer untuk mendapatkan bentuk dasar kata. Hasil akhirnya adalah teks yang sudah diproses dan digabungkan kembali menjadi satu string."
   ]
  },
  {
   "cell_type": "code",
   "execution_count": 124,
   "metadata": {},
   "outputs": [],
   "source": [
    "df[\"Cleaned\"] = df[\"text\"].apply(preprocess_text)"
   ]
  },
  {
   "cell_type": "code",
   "execution_count": 125,
   "metadata": {},
   "outputs": [
    {
     "data": {
      "text/html": [
       "<div>\n",
       "<style scoped>\n",
       "    .dataframe tbody tr th:only-of-type {\n",
       "        vertical-align: middle;\n",
       "    }\n",
       "\n",
       "    .dataframe tbody tr th {\n",
       "        vertical-align: top;\n",
       "    }\n",
       "\n",
       "    .dataframe thead th {\n",
       "        text-align: right;\n",
       "    }\n",
       "</style>\n",
       "<table border=\"1\" class=\"dataframe\">\n",
       "  <thead>\n",
       "    <tr style=\"text-align: right;\">\n",
       "      <th></th>\n",
       "      <th>text</th>\n",
       "      <th>Media</th>\n",
       "      <th>Link</th>\n",
       "      <th>Label</th>\n",
       "      <th>Cleaned</th>\n",
       "    </tr>\n",
       "  </thead>\n",
       "  <tbody>\n",
       "    <tr>\n",
       "      <th>0</th>\n",
       "      <td>Arema FC Kalah Lagi, Arkhan Fikri Ungkap Fakto...</td>\n",
       "      <td>kompas.com</td>\n",
       "      <td>https://bola.kompas.com/read/2025/01/24/234728...</td>\n",
       "      <td>Olahraga Non Sepak Bola</td>\n",
       "      <td>arema fc kalah arkhan fikri faktor kekurangan ...</td>\n",
       "    </tr>\n",
       "    <tr>\n",
       "      <th>1</th>\n",
       "      <td>Klasemen Sementara Liga 1: Persib Jauh di Depa...</td>\n",
       "      <td>kompas.com</td>\n",
       "      <td>https://bola.kompas.com/read/2025/01/24/234339...</td>\n",
       "      <td>Liga Indonesia</td>\n",
       "      <td>klasemen liga persib madura united terpuruk</td>\n",
       "    </tr>\n",
       "    <tr>\n",
       "      <th>2</th>\n",
       "      <td>Alasan Jens Raven Absen dari laga Timnas U20 I...</td>\n",
       "      <td>kompas.com</td>\n",
       "      <td>https://bola.kompas.com/read/2025/01/24/231232...</td>\n",
       "      <td>Liga Indonesia</td>\n",
       "      <td>alasan jens raven absen laga timnas u indonesi...</td>\n",
       "    </tr>\n",
       "    <tr>\n",
       "      <th>3</th>\n",
       "      <td>Peluang Baru Atlet Bisbol Indonesia Berprestas...</td>\n",
       "      <td>kompas.com</td>\n",
       "      <td>https://www.kompas.com/sports/read/2025/01/24/...</td>\n",
       "      <td>Liga Indonesia</td>\n",
       "      <td>peluang atlet bisbol indonesia berprestasi kan...</td>\n",
       "    </tr>\n",
       "    <tr>\n",
       "      <th>4</th>\n",
       "      <td>Cetak Brace di Persib Vs Arema, Tyronne Del Pi...</td>\n",
       "      <td>kompas.com</td>\n",
       "      <td>https://bola.kompas.com/read/2025/01/24/225847...</td>\n",
       "      <td>Liga Indonesia</td>\n",
       "      <td>cetak brace persib v arema tyronne del pino la...</td>\n",
       "    </tr>\n",
       "  </tbody>\n",
       "</table>\n",
       "</div>"
      ],
      "text/plain": [
       "                                                text       Media  \\\n",
       "0  Arema FC Kalah Lagi, Arkhan Fikri Ungkap Fakto...  kompas.com   \n",
       "1  Klasemen Sementara Liga 1: Persib Jauh di Depa...  kompas.com   \n",
       "2  Alasan Jens Raven Absen dari laga Timnas U20 I...  kompas.com   \n",
       "3  Peluang Baru Atlet Bisbol Indonesia Berprestas...  kompas.com   \n",
       "4  Cetak Brace di Persib Vs Arema, Tyronne Del Pi...  kompas.com   \n",
       "\n",
       "                                                Link                    Label  \\\n",
       "0  https://bola.kompas.com/read/2025/01/24/234728...  Olahraga Non Sepak Bola   \n",
       "1  https://bola.kompas.com/read/2025/01/24/234339...           Liga Indonesia   \n",
       "2  https://bola.kompas.com/read/2025/01/24/231232...           Liga Indonesia   \n",
       "3  https://www.kompas.com/sports/read/2025/01/24/...           Liga Indonesia   \n",
       "4  https://bola.kompas.com/read/2025/01/24/225847...           Liga Indonesia   \n",
       "\n",
       "                                             Cleaned  \n",
       "0  arema fc kalah arkhan fikri faktor kekurangan ...  \n",
       "1        klasemen liga persib madura united terpuruk  \n",
       "2  alasan jens raven absen laga timnas u indonesi...  \n",
       "3  peluang atlet bisbol indonesia berprestasi kan...  \n",
       "4  cetak brace persib v arema tyronne del pino la...  "
      ]
     },
     "execution_count": 125,
     "metadata": {},
     "output_type": "execute_result"
    }
   ],
   "source": [
    "df.head()"
   ]
  },
  {
   "cell_type": "code",
   "execution_count": 126,
   "metadata": {},
   "outputs": [],
   "source": [
    "df = df[[\"Cleaned\", \"Label\"]]"
   ]
  },
  {
   "cell_type": "code",
   "execution_count": 127,
   "metadata": {},
   "outputs": [
    {
     "data": {
      "text/html": [
       "<div>\n",
       "<style scoped>\n",
       "    .dataframe tbody tr th:only-of-type {\n",
       "        vertical-align: middle;\n",
       "    }\n",
       "\n",
       "    .dataframe tbody tr th {\n",
       "        vertical-align: top;\n",
       "    }\n",
       "\n",
       "    .dataframe thead th {\n",
       "        text-align: right;\n",
       "    }\n",
       "</style>\n",
       "<table border=\"1\" class=\"dataframe\">\n",
       "  <thead>\n",
       "    <tr style=\"text-align: right;\">\n",
       "      <th></th>\n",
       "      <th>Cleaned</th>\n",
       "      <th>Label</th>\n",
       "    </tr>\n",
       "  </thead>\n",
       "  <tbody>\n",
       "    <tr>\n",
       "      <th>0</th>\n",
       "      <td>arema fc kalah arkhan fikri faktor kekurangan ...</td>\n",
       "      <td>Olahraga Non Sepak Bola</td>\n",
       "    </tr>\n",
       "    <tr>\n",
       "      <th>1</th>\n",
       "      <td>klasemen liga persib madura united terpuruk</td>\n",
       "      <td>Liga Indonesia</td>\n",
       "    </tr>\n",
       "    <tr>\n",
       "      <th>2</th>\n",
       "      <td>alasan jens raven absen laga timnas u indonesi...</td>\n",
       "      <td>Liga Indonesia</td>\n",
       "    </tr>\n",
       "    <tr>\n",
       "      <th>3</th>\n",
       "      <td>peluang atlet bisbol indonesia berprestasi kan...</td>\n",
       "      <td>Liga Indonesia</td>\n",
       "    </tr>\n",
       "    <tr>\n",
       "      <th>4</th>\n",
       "      <td>cetak brace persib v arema tyronne del pino la...</td>\n",
       "      <td>Liga Indonesia</td>\n",
       "    </tr>\n",
       "  </tbody>\n",
       "</table>\n",
       "</div>"
      ],
      "text/plain": [
       "                                             Cleaned                    Label\n",
       "0  arema fc kalah arkhan fikri faktor kekurangan ...  Olahraga Non Sepak Bola\n",
       "1        klasemen liga persib madura united terpuruk           Liga Indonesia\n",
       "2  alasan jens raven absen laga timnas u indonesi...           Liga Indonesia\n",
       "3  peluang atlet bisbol indonesia berprestasi kan...           Liga Indonesia\n",
       "4  cetak brace persib v arema tyronne del pino la...           Liga Indonesia"
      ]
     },
     "execution_count": 127,
     "metadata": {},
     "output_type": "execute_result"
    }
   ],
   "source": [
    "df.head()"
   ]
  },
  {
   "cell_type": "code",
   "execution_count": 128,
   "metadata": {},
   "outputs": [
    {
     "name": "stdout",
     "output_type": "stream",
     "text": [
      "Requirement already satisfied: datasets in c:\\users\\fernaldy\\appdata\\local\\programs\\python\\python37\\lib\\site-packages (2.13.2)\n",
      "Requirement already satisfied: numpy>=1.17 in c:\\users\\fernaldy\\appdata\\local\\programs\\python\\python37\\lib\\site-packages (from datasets) (1.21.6)\n",
      "Requirement already satisfied: pyarrow>=8.0.0 in c:\\users\\fernaldy\\appdata\\local\\programs\\python\\python37\\lib\\site-packages (from datasets) (12.0.1)\n",
      "Requirement already satisfied: dill<0.3.7,>=0.3.0 in c:\\users\\fernaldy\\appdata\\local\\programs\\python\\python37\\lib\\site-packages (from datasets) (0.3.6)\n",
      "Requirement already satisfied: pandas in c:\\users\\fernaldy\\appdata\\local\\programs\\python\\python37\\lib\\site-packages (from datasets) (1.3.5)\n",
      "Requirement already satisfied: requests>=2.19.0 in c:\\users\\fernaldy\\appdata\\local\\programs\\python\\python37\\lib\\site-packages (from datasets) (2.31.0)\n",
      "Requirement already satisfied: tqdm>=4.62.1 in c:\\users\\fernaldy\\appdata\\local\\programs\\python\\python37\\lib\\site-packages (from datasets) (4.67.0)\n",
      "Requirement already satisfied: xxhash in c:\\users\\fernaldy\\appdata\\local\\programs\\python\\python37\\lib\\site-packages (from datasets) (3.5.0)\n",
      "Requirement already satisfied: multiprocess in c:\\users\\fernaldy\\appdata\\local\\programs\\python\\python37\\lib\\site-packages (from datasets) (0.70.14)\n",
      "Requirement already satisfied: fsspec>=2021.11.1 in c:\\users\\fernaldy\\appdata\\local\\programs\\python\\python37\\lib\\site-packages (from fsspec[http]>=2021.11.1->datasets) (2023.1.0)\n",
      "Requirement already satisfied: aiohttp in c:\\users\\fernaldy\\appdata\\local\\programs\\python\\python37\\lib\\site-packages (from datasets) (3.8.6)\n",
      "Requirement already satisfied: huggingface-hub<1.0.0,>=0.11.0 in c:\\users\\fernaldy\\appdata\\local\\programs\\python\\python37\\lib\\site-packages (from datasets) (0.16.4)\n",
      "Requirement already satisfied: packaging in c:\\users\\fernaldy\\appdata\\local\\programs\\python\\python37\\lib\\site-packages (from datasets) (23.2)\n",
      "Requirement already satisfied: pyyaml>=5.1 in c:\\users\\fernaldy\\appdata\\local\\programs\\python\\python37\\lib\\site-packages (from datasets) (6.0.1)\n",
      "Requirement already satisfied: importlib-metadata in c:\\users\\fernaldy\\appdata\\local\\programs\\python\\python37\\lib\\site-packages (from datasets) (6.7.0)\n",
      "Requirement already satisfied: attrs>=17.3.0 in c:\\users\\fernaldy\\appdata\\local\\programs\\python\\python37\\lib\\site-packages (from aiohttp->datasets) (23.2.0)\n",
      "Requirement already satisfied: charset-normalizer<4.0,>=2.0 in c:\\users\\fernaldy\\appdata\\local\\programs\\python\\python37\\lib\\site-packages (from aiohttp->datasets) (3.3.2)\n",
      "Requirement already satisfied: multidict<7.0,>=4.5 in c:\\users\\fernaldy\\appdata\\local\\programs\\python\\python37\\lib\\site-packages (from aiohttp->datasets) (6.0.5)\n",
      "Requirement already satisfied: async-timeout<5.0,>=4.0.0a3 in c:\\users\\fernaldy\\appdata\\local\\programs\\python\\python37\\lib\\site-packages (from aiohttp->datasets) (4.0.3)\n",
      "Requirement already satisfied: yarl<2.0,>=1.0 in c:\\users\\fernaldy\\appdata\\local\\programs\\python\\python37\\lib\\site-packages (from aiohttp->datasets) (1.9.4)\n",
      "Requirement already satisfied: frozenlist>=1.1.1 in c:\\users\\fernaldy\\appdata\\local\\programs\\python\\python37\\lib\\site-packages (from aiohttp->datasets) (1.3.3)\n",
      "Requirement already satisfied: aiosignal>=1.1.2 in c:\\users\\fernaldy\\appdata\\local\\programs\\python\\python37\\lib\\site-packages (from aiohttp->datasets) (1.3.1)\n",
      "Requirement already satisfied: asynctest==0.13.0 in c:\\users\\fernaldy\\appdata\\local\\programs\\python\\python37\\lib\\site-packages (from aiohttp->datasets) (0.13.0)\n",
      "Requirement already satisfied: typing-extensions>=3.7.4 in c:\\users\\fernaldy\\appdata\\local\\programs\\python\\python37\\lib\\site-packages (from aiohttp->datasets) (4.7.1)\n",
      "Requirement already satisfied: filelock in c:\\users\\fernaldy\\appdata\\local\\programs\\python\\python37\\lib\\site-packages (from huggingface-hub<1.0.0,>=0.11.0->datasets) (3.12.2)\n",
      "Requirement already satisfied: idna<4,>=2.5 in c:\\users\\fernaldy\\appdata\\local\\programs\\python\\python37\\lib\\site-packages (from requests>=2.19.0->datasets) (3.7)\n",
      "Requirement already satisfied: urllib3<3,>=1.21.1 in c:\\users\\fernaldy\\appdata\\local\\programs\\python\\python37\\lib\\site-packages (from requests>=2.19.0->datasets) (2.0.7)\n",
      "Requirement already satisfied: certifi>=2017.4.17 in c:\\users\\fernaldy\\appdata\\local\\programs\\python\\python37\\lib\\site-packages (from requests>=2.19.0->datasets) (2024.8.30)\n",
      "Requirement already satisfied: colorama in c:\\users\\fernaldy\\appdata\\local\\programs\\python\\python37\\lib\\site-packages (from tqdm>=4.62.1->datasets) (0.4.6)\n",
      "Requirement already satisfied: zipp>=0.5 in c:\\users\\fernaldy\\appdata\\local\\programs\\python\\python37\\lib\\site-packages (from importlib-metadata->datasets) (3.15.0)\n",
      "Requirement already satisfied: python-dateutil>=2.7.3 in c:\\users\\fernaldy\\appdata\\roaming\\python\\python37\\site-packages (from pandas->datasets) (2.9.0.post0)\n",
      "Requirement already satisfied: pytz>=2017.3 in c:\\users\\fernaldy\\appdata\\local\\programs\\python\\python37\\lib\\site-packages (from pandas->datasets) (2024.1)\n",
      "Requirement already satisfied: six>=1.5 in c:\\users\\fernaldy\\appdata\\local\\programs\\python\\python37\\lib\\site-packages (from python-dateutil>=2.7.3->pandas->datasets) (1.12.0)\n",
      "Note: you may need to restart the kernel to use updated packages.\n"
     ]
    }
   ],
   "source": [
    "%pip install datasets"
   ]
  },
  {
   "cell_type": "code",
   "execution_count": 129,
   "metadata": {},
   "outputs": [],
   "source": [
    "from sklearn.model_selection import train_test_split\n",
    "from sklearn.preprocessing import LabelEncoder\n",
    "from sklearn.metrics import classification_report, accuracy_score, precision_score, recall_score, f1_score\n",
    "from transformers import AutoTokenizer, AutoModelForSequenceClassification, Trainer, TrainingArguments\n",
    "from datasets import Dataset\n",
    "import torch"
   ]
  },
  {
   "cell_type": "code",
   "execution_count": 130,
   "metadata": {},
   "outputs": [],
   "source": [
    "train_texts, test_texts, train_labels, test_labels = train_test_split(df['Cleaned'], df['Label'], test_size=0.2,stratify=df['Label'],random_state=42)"
   ]
  },
  {
   "cell_type": "markdown",
   "metadata": {},
   "source": [
    "Melakukan split data pada kolom 'Cleaned' dan 'Label' dengan parameter stratify=df['Label'] yg memastikan distribusi label yang seimbang di antara data pelatihan dan pengujian. "
   ]
  },
  {
   "cell_type": "code",
   "execution_count": 131,
   "metadata": {},
   "outputs": [
    {
     "name": "stderr",
     "output_type": "stream",
     "text": [
      "loading configuration file config.json from cache at C:\\Users\\Fernaldy/.cache\\huggingface\\hub\\models--bert-base-uncased\\snapshots\\86b5e0934494bd15c9632b12f734a8a67f723594\\config.json\n",
      "Model config BertConfig {\n",
      "  \"_name_or_path\": \"bert-base-uncased\",\n",
      "  \"architectures\": [\n",
      "    \"BertForMaskedLM\"\n",
      "  ],\n",
      "  \"attention_probs_dropout_prob\": 0.1,\n",
      "  \"classifier_dropout\": null,\n",
      "  \"gradient_checkpointing\": false,\n",
      "  \"hidden_act\": \"gelu\",\n",
      "  \"hidden_dropout_prob\": 0.1,\n",
      "  \"hidden_size\": 768,\n",
      "  \"initializer_range\": 0.02,\n",
      "  \"intermediate_size\": 3072,\n",
      "  \"layer_norm_eps\": 1e-12,\n",
      "  \"max_position_embeddings\": 512,\n",
      "  \"model_type\": \"bert\",\n",
      "  \"num_attention_heads\": 12,\n",
      "  \"num_hidden_layers\": 12,\n",
      "  \"pad_token_id\": 0,\n",
      "  \"position_embedding_type\": \"absolute\",\n",
      "  \"transformers_version\": \"4.26.0\",\n",
      "  \"type_vocab_size\": 2,\n",
      "  \"use_cache\": true,\n",
      "  \"vocab_size\": 30522\n",
      "}\n",
      "\n",
      "loading file vocab.txt from cache at C:\\Users\\Fernaldy/.cache\\huggingface\\hub\\models--bert-base-uncased\\snapshots\\86b5e0934494bd15c9632b12f734a8a67f723594\\vocab.txt\n",
      "loading file tokenizer.json from cache at C:\\Users\\Fernaldy/.cache\\huggingface\\hub\\models--bert-base-uncased\\snapshots\\86b5e0934494bd15c9632b12f734a8a67f723594\\tokenizer.json\n",
      "loading file added_tokens.json from cache at None\n",
      "loading file special_tokens_map.json from cache at None\n",
      "loading file tokenizer_config.json from cache at C:\\Users\\Fernaldy/.cache\\huggingface\\hub\\models--bert-base-uncased\\snapshots\\86b5e0934494bd15c9632b12f734a8a67f723594\\tokenizer_config.json\n",
      "loading configuration file config.json from cache at C:\\Users\\Fernaldy/.cache\\huggingface\\hub\\models--bert-base-uncased\\snapshots\\86b5e0934494bd15c9632b12f734a8a67f723594\\config.json\n",
      "Model config BertConfig {\n",
      "  \"_name_or_path\": \"bert-base-uncased\",\n",
      "  \"architectures\": [\n",
      "    \"BertForMaskedLM\"\n",
      "  ],\n",
      "  \"attention_probs_dropout_prob\": 0.1,\n",
      "  \"classifier_dropout\": null,\n",
      "  \"gradient_checkpointing\": false,\n",
      "  \"hidden_act\": \"gelu\",\n",
      "  \"hidden_dropout_prob\": 0.1,\n",
      "  \"hidden_size\": 768,\n",
      "  \"initializer_range\": 0.02,\n",
      "  \"intermediate_size\": 3072,\n",
      "  \"layer_norm_eps\": 1e-12,\n",
      "  \"max_position_embeddings\": 512,\n",
      "  \"model_type\": \"bert\",\n",
      "  \"num_attention_heads\": 12,\n",
      "  \"num_hidden_layers\": 12,\n",
      "  \"pad_token_id\": 0,\n",
      "  \"position_embedding_type\": \"absolute\",\n",
      "  \"transformers_version\": \"4.26.0\",\n",
      "  \"type_vocab_size\": 2,\n",
      "  \"use_cache\": true,\n",
      "  \"vocab_size\": 30522\n",
      "}\n",
      "\n"
     ]
    }
   ],
   "source": [
    "# Load Pretrained Model and Tokenizer\n",
    "model_name = \"bert-base-uncased\"\n",
    "tokenizer = AutoTokenizer.from_pretrained(model_name)"
   ]
  },
  {
   "cell_type": "markdown",
   "metadata": {},
   "source": [
    "menyimpan model BERT yang telah dilatih sebelumnya (bert-base-uncased) beserta tokenizer-nya menggunakan fungsi AutoTokenizer.from_pretrained, yang memungkinkan teks diproses dan dipersiapkan untuk pemodelan lebih lanjut."
   ]
  },
  {
   "cell_type": "code",
   "execution_count": 132,
   "metadata": {},
   "outputs": [
    {
     "name": "stdout",
     "output_type": "stream",
     "text": [
      "Looking in indexes: https://download.pytorch.org/whl/cpu\n",
      "Requirement already satisfied: torch in c:\\users\\fernaldy\\appdata\\local\\programs\\python\\python37\\lib\\site-packages (1.13.1+cpu)\n",
      "Requirement already satisfied: torchvision in c:\\users\\fernaldy\\appdata\\local\\programs\\python\\python37\\lib\\site-packages (0.14.1+cpu)\n",
      "Requirement already satisfied: torchaudio in c:\\users\\fernaldy\\appdata\\local\\programs\\python\\python37\\lib\\site-packages (0.13.1+cpu)\n",
      "Requirement already satisfied: typing-extensions in c:\\users\\fernaldy\\appdata\\local\\programs\\python\\python37\\lib\\site-packages (from torch) (4.7.1)\n",
      "Requirement already satisfied: numpy in c:\\users\\fernaldy\\appdata\\local\\programs\\python\\python37\\lib\\site-packages (from torchvision) (1.21.6)\n",
      "Requirement already satisfied: requests in c:\\users\\fernaldy\\appdata\\local\\programs\\python\\python37\\lib\\site-packages (from torchvision) (2.31.0)\n",
      "Requirement already satisfied: pillow!=8.3.*,>=5.3.0 in c:\\users\\fernaldy\\appdata\\local\\programs\\python\\python37\\lib\\site-packages (from torchvision) (9.5.0)\n",
      "Requirement already satisfied: charset-normalizer<4,>=2 in c:\\users\\fernaldy\\appdata\\local\\programs\\python\\python37\\lib\\site-packages (from requests->torchvision) (3.3.2)\n",
      "Requirement already satisfied: idna<4,>=2.5 in c:\\users\\fernaldy\\appdata\\local\\programs\\python\\python37\\lib\\site-packages (from requests->torchvision) (3.7)\n",
      "Requirement already satisfied: urllib3<3,>=1.21.1 in c:\\users\\fernaldy\\appdata\\local\\programs\\python\\python37\\lib\\site-packages (from requests->torchvision) (2.0.7)\n",
      "Requirement already satisfied: certifi>=2017.4.17 in c:\\users\\fernaldy\\appdata\\local\\programs\\python\\python37\\lib\\site-packages (from requests->torchvision) (2024.8.30)\n",
      "Note: you may need to restart the kernel to use updated packages.\n"
     ]
    }
   ],
   "source": [
    "%pip install torch torchvision torchaudio --index-url https://download.pytorch.org/whl/cpu"
   ]
  },
  {
   "cell_type": "markdown",
   "metadata": {},
   "source": [
    "Stage 1"
   ]
  },
  {
   "cell_type": "code",
   "execution_count": 133,
   "metadata": {},
   "outputs": [],
   "source": [
    "# Tokenize data\n",
    "def tokenize_and_encode(texts, labels, tokenizer, max_length=128):\n",
    "    try:\n",
    "        texts = [str(text) for text in texts]\n",
    "    except Exception as e:\n",
    "        raise ValueError(f\"Error converting texts to strings: {e}\")\n",
    "    tokenized_data = tokenizer(\n",
    "        texts,\n",
    "        truncation=True,\n",
    "        padding=\"max_length\",\n",
    "        max_length=max_length,\n",
    "        return_tensors=\"pt\" \n",
    "    )\n",
    "    label_encoder = LabelEncoder()\n",
    "    labels = label_encoder.fit_transform(labels)\n",
    "    labels_tensor = torch.tensor(labels, dtype=torch.long)\n",
    "    return tokenized_data, labels_tensor"
   ]
  },
  {
   "cell_type": "markdown",
   "metadata": {},
   "source": [
    "Fungi untuk mempersiapkan teks dan label agar dapat diproses oleh model BERT. Teks pertama-tama diubah menjadi string, kemudian di-tokenisasi menggunakan tokenizer BERT dengan padding dan pemotongan panjang teks sesuai max_length. Label kemudian diubah menjadi nilai numerik menggunakan LabelEncoder, dan hasilnya dikonversi menjadi tensor PyTorch. Fungsi ini mengembalikan data yang telah di-tokenisasi dan label dalam bentuk tensor siap pakai untuk pelatihan model."
   ]
  },
  {
   "cell_type": "code",
   "execution_count": 173,
   "metadata": {},
   "outputs": [],
   "source": [
    "class TextClassificationDataset(Dataset):\n",
    "    def __init__(self, tokenized_inputs, target_labels):\n",
    "        self.tokenized_inputs = tokenized_inputs\n",
    "        self.target_labels = target_labels\n",
    "\n",
    "    def __getitem__(self, index: int) -> dict:\n",
    "        data_point = {key: value[index] for key, value in self.tokenized_inputs.items()}\n",
    "        data_point[\"labels\"] = self.target_labels[index]\n",
    "        return data_point\n",
    "\n",
    "    def __len__(self) -> int:\n",
    "        return len(self.target_labels)  \n",
    "    \n",
    "    @property\n",
    "    def column_names(self):\n",
    "        return list(self.tokenized_inputs.keys())\n",
    "\n",
    "    @property\n",
    "    def features(self):\n",
    "        return self.column_names"
   ]
  },
  {
   "cell_type": "markdown",
   "metadata": {},
   "source": [
    "Class diatas merupakan subclass dari Dataset yang dirancang untuk tugas klasifikasi teks dengan PyTorch. Dalam konstruktor (__init__), data yang telah di-tokenisasi (tokenized_inputs) dan label target (target_labels) disimpan. Fungsi __getitem__ mengembalikan data pada indeks tertentu dalam bentuk dictionary yang berisi token dan label. Fungsi __len__ mengembalikan jumlah total data berdasarkan panjang label. Selain itu, ada dua properti: column_names, yang mengembalikan nama kolom dari input yang telah di-tokenisasi, dan features, yang mengembalikan nama-nama fitur tersebut. Class ini mempermudah pengolahan data untuk pelatihan model klasifikasi teks."
   ]
  },
  {
   "cell_type": "code",
   "execution_count": 167,
   "metadata": {},
   "outputs": [],
   "source": [
    "# Define evaluation metrics\n",
    "def compute_metrics(pred):\n",
    "    logits, labels = pred\n",
    "    preds = np.argmax(logits, axis=-1)\n",
    "    accuracy = accuracy_score(labels, preds)\n",
    "    precision = precision_score(labels, preds, average=\"weighted\")\n",
    "    recall = recall_score(labels, preds, average=\"weighted\")\n",
    "    f1 = f1_score(labels, preds, average=\"weighted\")\n",
    "    return {\"accuracy\": accuracy, \"precision\": precision, \"recall\": recall, \"f1\": f1}"
   ]
  },
  {
   "cell_type": "markdown",
   "metadata": {},
   "source": [
    "fungsi ini digunakan untuk menghitung berbagai metrik evaluasi untuk model klasifikasi. Fungsi ini menerima prediksi (pred) yang terdiri dari logits dan label. Logits diubah menjadi prediksi kelas dengan menggunakan np.argmax. Kemudian, metrik evaluasi dihitung menggunakan fungsi dari sklearn.metrics, termasuk akurasi, presisi, recall, dan skor F1 dengan pendekatan rata-rata tertimbang (weighted). Metrik yang dihitung dikembalikan dalam bentuk dictionary. Fungsi ini berguna untuk mengevaluasi kinerja model klasifikasi."
   ]
  },
  {
   "cell_type": "code",
   "execution_count": 174,
   "metadata": {},
   "outputs": [],
   "source": [
    "train_tokens, train_labels_encoded = tokenize_and_encode(train_texts, train_labels, tokenizer)\n",
    "test_tokens, test_labels_encoded = tokenize_and_encode(test_texts, test_labels, tokenizer)\n",
    "\n",
    "train_dataset = TextClassificationDataset(train_tokens, train_labels_encoded)\n",
    "test_dataset = TextClassificationDataset(test_tokens, test_labels_encoded)"
   ]
  },
  {
   "cell_type": "markdown",
   "metadata": {},
   "source": [
    "Code ini men-tokenisasi teks pelatihan dan pengujian serta mengonversi label menjadi format numerik menggunakan fungsi tokenize_and_encode. Hasilnya kemudian dibungkus dalam objek TextClassificationDataset untuk mempersiapkan dataset pelatihan dan pengujian yang siap digunakan dalam pelatihan model klasifikasi teks."
   ]
  },
  {
   "cell_type": "code",
   "execution_count": 175,
   "metadata": {},
   "outputs": [
    {
     "name": "stderr",
     "output_type": "stream",
     "text": [
      "loading configuration file config.json from cache at C:\\Users\\Fernaldy/.cache\\huggingface\\hub\\models--bert-base-uncased\\snapshots\\86b5e0934494bd15c9632b12f734a8a67f723594\\config.json\n",
      "Model config BertConfig {\n",
      "  \"_name_or_path\": \"bert-base-uncased\",\n",
      "  \"architectures\": [\n",
      "    \"BertForMaskedLM\"\n",
      "  ],\n",
      "  \"attention_probs_dropout_prob\": 0.1,\n",
      "  \"classifier_dropout\": null,\n",
      "  \"gradient_checkpointing\": false,\n",
      "  \"hidden_act\": \"gelu\",\n",
      "  \"hidden_dropout_prob\": 0.1,\n",
      "  \"hidden_size\": 768,\n",
      "  \"id2label\": {\n",
      "    \"0\": \"LABEL_0\",\n",
      "    \"1\": \"LABEL_1\",\n",
      "    \"2\": \"LABEL_2\",\n",
      "    \"3\": \"LABEL_3\",\n",
      "    \"4\": \"LABEL_4\"\n",
      "  },\n",
      "  \"initializer_range\": 0.02,\n",
      "  \"intermediate_size\": 3072,\n",
      "  \"label2id\": {\n",
      "    \"LABEL_0\": 0,\n",
      "    \"LABEL_1\": 1,\n",
      "    \"LABEL_2\": 2,\n",
      "    \"LABEL_3\": 3,\n",
      "    \"LABEL_4\": 4\n",
      "  },\n",
      "  \"layer_norm_eps\": 1e-12,\n",
      "  \"max_position_embeddings\": 512,\n",
      "  \"model_type\": \"bert\",\n",
      "  \"num_attention_heads\": 12,\n",
      "  \"num_hidden_layers\": 12,\n",
      "  \"pad_token_id\": 0,\n",
      "  \"position_embedding_type\": \"absolute\",\n",
      "  \"transformers_version\": \"4.26.0\",\n",
      "  \"type_vocab_size\": 2,\n",
      "  \"use_cache\": true,\n",
      "  \"vocab_size\": 30522\n",
      "}\n",
      "\n",
      "loading weights file pytorch_model.bin from cache at C:\\Users\\Fernaldy/.cache\\huggingface\\hub\\models--bert-base-uncased\\snapshots\\86b5e0934494bd15c9632b12f734a8a67f723594\\pytorch_model.bin\n",
      "Some weights of the model checkpoint at bert-base-uncased were not used when initializing BertForSequenceClassification: ['cls.predictions.decoder.weight', 'cls.predictions.transform.LayerNorm.weight', 'cls.predictions.transform.dense.weight', 'cls.predictions.bias', 'cls.seq_relationship.bias', 'cls.seq_relationship.weight', 'cls.predictions.transform.LayerNorm.bias', 'cls.predictions.transform.dense.bias']\n",
      "- This IS expected if you are initializing BertForSequenceClassification from the checkpoint of a model trained on another task or with another architecture (e.g. initializing a BertForSequenceClassification model from a BertForPreTraining model).\n",
      "- This IS NOT expected if you are initializing BertForSequenceClassification from the checkpoint of a model that you expect to be exactly identical (initializing a BertForSequenceClassification model from a BertForSequenceClassification model).\n",
      "Some weights of BertForSequenceClassification were not initialized from the model checkpoint at bert-base-uncased and are newly initialized: ['classifier.weight', 'classifier.bias']\n",
      "You should probably TRAIN this model on a down-stream task to be able to use it for predictions and inference.\n"
     ]
    }
   ],
   "source": [
    "# One-Stage Model\n",
    "model_1_stage = AutoModelForSequenceClassification.from_pretrained(model_name, num_labels=5)"
   ]
  },
  {
   "cell_type": "code",
   "execution_count": 176,
   "metadata": {},
   "outputs": [
    {
     "name": "stderr",
     "output_type": "stream",
     "text": [
      "PyTorch: setting up devices\n",
      "The default value for the training argument `--report_to` will change in v5 (from all installed integrations to none). In v5, you will need to use `--report_to all` to get the same behavior as now. You should start updating your code and make this info disappear :-).\n"
     ]
    }
   ],
   "source": [
    "training_args = TrainingArguments(\n",
    "    output_dir=\"./results_1stage\",\n",
    "    evaluation_strategy=\"epoch\",\n",
    "    save_strategy=\"epoch\",\n",
    "    learning_rate=2e-5,\n",
    "    per_device_train_batch_size=16,\n",
    "    per_device_eval_batch_size=16,\n",
    "    num_train_epochs=3,\n",
    "    weight_decay=0.01,\n",
    "    logging_dir=\"./logs_1stage\",\n",
    "    logging_steps=10,\n",
    "    load_best_model_at_end=True,\n",
    "    no_cuda=True,  # Force CPU usage\n",
    ")\n"
   ]
  },
  {
   "cell_type": "code",
   "execution_count": 177,
   "metadata": {},
   "outputs": [],
   "source": [
    "traine_stage_1 = Trainer(\n",
    "    model=model_1_stage,\n",
    "    args=training_args,\n",
    "    train_dataset=train_dataset,\n",
    "    eval_dataset=test_dataset,\n",
    "    compute_metrics=compute_metrics\n",
    ")"
   ]
  },
  {
   "cell_type": "markdown",
   "metadata": {},
   "source": [
    "Code ini mengonfigurasi dan memulai pelatihan model dengan TrainingArguments untuk menetapkan parameter pelatihan seperti batch size, epoch, dan laju pembelajaran. Kemudian, Trainer digunakan untuk melatih model dengan dataset pelatihan dan pengujian serta metrik evaluasi yang telah ditentukan."
   ]
  },
  {
   "cell_type": "code",
   "execution_count": 178,
   "metadata": {},
   "outputs": [
    {
     "name": "stderr",
     "output_type": "stream",
     "text": [
      "c:\\Users\\Fernaldy\\AppData\\Local\\Programs\\Python\\Python37\\lib\\site-packages\\transformers\\optimization.py:310: FutureWarning: This implementation of AdamW is deprecated and will be removed in a future version. Use the PyTorch implementation torch.optim.AdamW instead, or set `no_deprecation_warning=True` to disable this warning\n",
      "  FutureWarning,\n",
      "***** Running training *****\n",
      "  Num examples = 80\n",
      "  Num Epochs = 3\n",
      "  Instantaneous batch size per device = 16\n",
      "  Total train batch size (w. parallel, distributed & accumulation) = 16\n",
      "  Gradient Accumulation steps = 1\n",
      "  Total optimization steps = 15\n",
      "  Number of trainable parameters = 109486085\n"
     ]
    },
    {
     "name": "stdout",
     "output_type": "stream",
     "text": [
      "====== Fine-Tuning One-Stage Model (5 classes) ======\n"
     ]
    },
    {
     "name": "stderr",
     "output_type": "stream",
     "text": [
      " 33%|███▎      | 5/15 [00:25<00:48,  4.82s/it]***** Running Evaluation *****\n",
      "  Num examples = 20\n",
      "  Batch size = 16\n",
      "\n",
      "\u001b[A\n",
      "\u001b[Ac:\\Users\\Fernaldy\\AppData\\Local\\Programs\\Python\\Python37\\lib\\site-packages\\sklearn\\metrics\\_classification.py:1318: UndefinedMetricWarning: Precision is ill-defined and being set to 0.0 in labels with no predicted samples. Use `zero_division` parameter to control this behavior.\n",
      "  _warn_prf(average, modifier, msg_start, len(result))\n",
      "\n",
      "\n",
      "                                              \n",
      "\u001b[A                                   \n",
      " 33%|███▎      | 5/15 [00:27<00:48,  4.82s/it]\n",
      "\u001b[ASaving model checkpoint to ./results_1stage\\checkpoint-5\n",
      "Configuration saved in ./results_1stage\\checkpoint-5\\config.json\n"
     ]
    },
    {
     "name": "stdout",
     "output_type": "stream",
     "text": [
      "{'eval_loss': 1.4844105243682861, 'eval_accuracy': 0.4, 'eval_precision': 0.28125, 'eval_recall': 0.4, 'eval_f1': 0.3026086956521739, 'eval_runtime': 1.8785, 'eval_samples_per_second': 10.647, 'eval_steps_per_second': 1.065, 'epoch': 1.0}\n"
     ]
    },
    {
     "name": "stderr",
     "output_type": "stream",
     "text": [
      "Model weights saved in ./results_1stage\\checkpoint-5\\pytorch_model.bin\n",
      "                                               \n",
      " 67%|██████▋   | 10/15 [00:51<00:24,  4.82s/it]***** Running Evaluation *****\n",
      "  Num examples = 20\n",
      "  Batch size = 16\n"
     ]
    },
    {
     "name": "stdout",
     "output_type": "stream",
     "text": [
      "{'loss': 1.4941, 'learning_rate': 6.666666666666667e-06, 'epoch': 2.0}\n"
     ]
    },
    {
     "name": "stderr",
     "output_type": "stream",
     "text": [
      "\n",
      "\u001b[A\n",
      "\u001b[Ac:\\Users\\Fernaldy\\AppData\\Local\\Programs\\Python\\Python37\\lib\\site-packages\\sklearn\\metrics\\_classification.py:1318: UndefinedMetricWarning: Precision is ill-defined and being set to 0.0 in labels with no predicted samples. Use `zero_division` parameter to control this behavior.\n",
      "  _warn_prf(average, modifier, msg_start, len(result))\n",
      "\n",
      "\n",
      "                                               \n",
      "\u001b[A                                     \n",
      " 67%|██████▋   | 10/15 [00:53<00:24,  4.82s/it]\n",
      "\u001b[ASaving model checkpoint to ./results_1stage\\checkpoint-10\n",
      "Configuration saved in ./results_1stage\\checkpoint-10\\config.json\n"
     ]
    },
    {
     "name": "stdout",
     "output_type": "stream",
     "text": [
      "{'eval_loss': 1.4522838592529297, 'eval_accuracy': 0.4, 'eval_precision': 0.24411764705882355, 'eval_recall': 0.4, 'eval_f1': 0.27083333333333337, 'eval_runtime': 1.9276, 'eval_samples_per_second': 10.376, 'eval_steps_per_second': 1.038, 'epoch': 2.0}\n"
     ]
    },
    {
     "name": "stderr",
     "output_type": "stream",
     "text": [
      "Model weights saved in ./results_1stage\\checkpoint-10\\pytorch_model.bin\n",
      "100%|██████████| 15/15 [01:19<00:00,  5.20s/it]***** Running Evaluation *****\n",
      "  Num examples = 20\n",
      "  Batch size = 16\n",
      "\n",
      "\u001b[A\n",
      "\u001b[Ac:\\Users\\Fernaldy\\AppData\\Local\\Programs\\Python\\Python37\\lib\\site-packages\\sklearn\\metrics\\_classification.py:1318: UndefinedMetricWarning: Precision is ill-defined and being set to 0.0 in labels with no predicted samples. Use `zero_division` parameter to control this behavior.\n",
      "  _warn_prf(average, modifier, msg_start, len(result))\n",
      "\n",
      "\n",
      "                                               \n",
      "\u001b[A                                     \n",
      "100%|██████████| 15/15 [01:24<00:00,  5.20s/it]\n",
      "\u001b[ASaving model checkpoint to ./results_1stage\\checkpoint-15\n",
      "Configuration saved in ./results_1stage\\checkpoint-15\\config.json\n"
     ]
    },
    {
     "name": "stdout",
     "output_type": "stream",
     "text": [
      "{'eval_loss': 1.4375358819961548, 'eval_accuracy': 0.45, 'eval_precision': 0.303125, 'eval_recall': 0.45, 'eval_f1': 0.3330434782608696, 'eval_runtime': 4.9418, 'eval_samples_per_second': 4.047, 'eval_steps_per_second': 0.405, 'epoch': 3.0}\n"
     ]
    },
    {
     "name": "stderr",
     "output_type": "stream",
     "text": [
      "Model weights saved in ./results_1stage\\checkpoint-15\\pytorch_model.bin\n",
      "\n",
      "\n",
      "Training completed. Do not forget to share your model on huggingface.co/models =)\n",
      "\n",
      "\n",
      "Loading best model from ./results_1stage\\checkpoint-15 (score: 1.4375358819961548).\n",
      "                                               \n",
      "100%|██████████| 15/15 [01:27<00:00,  5.81s/it]"
     ]
    },
    {
     "name": "stdout",
     "output_type": "stream",
     "text": [
      "{'train_runtime': 87.1662, 'train_samples_per_second': 2.753, 'train_steps_per_second': 0.172, 'train_loss': 1.4670384407043457, 'epoch': 3.0}\n"
     ]
    },
    {
     "name": "stderr",
     "output_type": "stream",
     "text": [
      "\n"
     ]
    },
    {
     "data": {
      "text/plain": [
       "TrainOutput(global_step=15, training_loss=1.4670384407043457, metrics={'train_runtime': 87.1662, 'train_samples_per_second': 2.753, 'train_steps_per_second': 0.172, 'train_loss': 1.4670384407043457, 'epoch': 3.0})"
      ]
     },
     "execution_count": 178,
     "metadata": {},
     "output_type": "execute_result"
    }
   ],
   "source": [
    "print(\"====== Fine-Tuning One-Stage Model (5 classes) ======\")\n",
    "traine_stage_1.train()"
   ]
  },
  {
   "cell_type": "markdown",
   "metadata": {},
   "source": [
    "Code ini menjalankan proses pelatihan model menggunakan objek Trainer yang telah dikonfigurasi sebelumnya. Fungsi train() memulai pelatihan model pada dataset pelatihan dengan parameter yang telah ditentukan dalam TrainingArguments."
   ]
  },
  {
   "cell_type": "code",
   "execution_count": 179,
   "metadata": {},
   "outputs": [
    {
     "name": "stderr",
     "output_type": "stream",
     "text": [
      "***** Running Prediction *****\n",
      "  Num examples = 20\n",
      "  Batch size = 16\n"
     ]
    },
    {
     "name": "stdout",
     "output_type": "stream",
     "text": [
      "====== Evaluating One-Stage Model (5 classes) ======\n"
     ]
    },
    {
     "name": "stderr",
     "output_type": "stream",
     "text": [
      "100%|██████████| 2/2 [00:00<00:00,  2.79it/s]c:\\Users\\Fernaldy\\AppData\\Local\\Programs\\Python\\Python37\\lib\\site-packages\\sklearn\\metrics\\_classification.py:1318: UndefinedMetricWarning: Precision is ill-defined and being set to 0.0 in labels with no predicted samples. Use `zero_division` parameter to control this behavior.\n",
      "  _warn_prf(average, modifier, msg_start, len(result))\n",
      "100%|██████████| 2/2 [00:00<00:00,  2.75it/s]\n"
     ]
    }
   ],
   "source": [
    "print(\"====== Evaluating One-Stage Model (5 classes) ======\")\n",
    "predictions = traine_stage_1.predict(test_dataset)\n",
    "logits = torch.tensor(predictions.predictions)\n",
    "y_pred = torch.argmax(logits, axis=-1)"
   ]
  },
  {
   "cell_type": "markdown",
   "metadata": {},
   "source": [
    "Code ini menghasilkan prediksi dari model pada dataset pengujian, kemudian mengonversi logits menjadi kelas prediksi dengan torch.argmax."
   ]
  },
  {
   "cell_type": "code",
   "execution_count": 180,
   "metadata": {},
   "outputs": [
    {
     "name": "stdout",
     "output_type": "stream",
     "text": [
      "Classification Report (1-stage model):\n",
      "\n",
      "              precision    recall  f1-score   support\n",
      "\n",
      "           0       0.44      1.00      0.61         7\n",
      "           1       0.50      0.33      0.40         6\n",
      "           2       0.00      0.00      0.00         1\n",
      "           3       0.00      0.00      0.00         1\n",
      "           4       0.00      0.00      0.00         5\n",
      "\n",
      "    accuracy                           0.45        20\n",
      "   macro avg       0.19      0.27      0.20        20\n",
      "weighted avg       0.30      0.45      0.33        20\n",
      "\n"
     ]
    },
    {
     "name": "stderr",
     "output_type": "stream",
     "text": [
      "c:\\Users\\Fernaldy\\AppData\\Local\\Programs\\Python\\Python37\\lib\\site-packages\\sklearn\\metrics\\_classification.py:1318: UndefinedMetricWarning: Precision and F-score are ill-defined and being set to 0.0 in labels with no predicted samples. Use `zero_division` parameter to control this behavior.\n",
      "  _warn_prf(average, modifier, msg_start, len(result))\n",
      "c:\\Users\\Fernaldy\\AppData\\Local\\Programs\\Python\\Python37\\lib\\site-packages\\sklearn\\metrics\\_classification.py:1318: UndefinedMetricWarning: Precision and F-score are ill-defined and being set to 0.0 in labels with no predicted samples. Use `zero_division` parameter to control this behavior.\n",
      "  _warn_prf(average, modifier, msg_start, len(result))\n",
      "c:\\Users\\Fernaldy\\AppData\\Local\\Programs\\Python\\Python37\\lib\\site-packages\\sklearn\\metrics\\_classification.py:1318: UndefinedMetricWarning: Precision and F-score are ill-defined and being set to 0.0 in labels with no predicted samples. Use `zero_division` parameter to control this behavior.\n",
      "  _warn_prf(average, modifier, msg_start, len(result))\n"
     ]
    }
   ],
   "source": [
    "print(\"Classification Report (1-stage model):\\n\")\n",
    "print(classification_report(test_labels_encoded, y_pred))"
   ]
  },
  {
   "cell_type": "markdown",
   "metadata": {},
   "source": [
    "Stage 2"
   ]
  },
  {
   "cell_type": "code",
   "execution_count": 181,
   "metadata": {},
   "outputs": [
    {
     "data": {
      "text/plain": [
       "LabelEncoder()"
      ]
     },
     "execution_count": 181,
     "metadata": {},
     "output_type": "execute_result"
    }
   ],
   "source": [
    "encode = LabelEncoder()\n",
    "encode.fit([\"Olahraga Non Sepak Bola\", \"Sepak Bola\"])"
   ]
  },
  {
   "cell_type": "code",
   "execution_count": 182,
   "metadata": {},
   "outputs": [],
   "source": [
    "train_label = train_labels.map(\n",
    "    lambda x: \"Sepak Bola\" if x != \"Olahraga Non Sepak Bola\" else x\n",
    ")\n",
    "\n",
    "test_label = test_labels.map(\n",
    "    lambda x: \"Sepak Bola\" if x != \"Olahraga Non Sepak Bola\" else x\n",
    ")"
   ]
  },
  {
   "cell_type": "markdown",
   "metadata": {},
   "source": [
    "Code ini memodifikasi label pada dataset pelatihan dan pengujian, mengganti semua label yang bukan \"Olahraga Non Sepak Bola\" menjadi \"Sepak Bola\" menggunakan fungsi map."
   ]
  },
  {
   "cell_type": "code",
   "execution_count": 183,
   "metadata": {},
   "outputs": [],
   "source": [
    "binary_train_labels_encoded = encode.transform(train_label)\n",
    "binary_test_labels_encoded = encode.transform(test_label)"
   ]
  },
  {
   "cell_type": "code",
   "execution_count": 184,
   "metadata": {},
   "outputs": [],
   "source": [
    "# Tokenize data for binary classification\n",
    "tokens_train_binary, labels_train_binary = tokenize_and_encode(\n",
    "    train_texts, binary_train_labels_encoded, tokenizer\n",
    ")\n",
    "tokens_test_binary, labels_test_binary = tokenize_and_encode(\n",
    "    test_texts, binary_test_labels_encoded, tokenizer\n",
    ")"
   ]
  },
  {
   "cell_type": "code",
   "execution_count": 185,
   "metadata": {},
   "outputs": [],
   "source": [
    "train_dataset_binary = TextClassificationDataset(tokens_train_binary, labels_train_binary)\n",
    "test_dataset_binary = TextClassificationDataset(tokens_test_binary, labels_test_binary)"
   ]
  },
  {
   "cell_type": "markdown",
   "metadata": {},
   "source": [
    "Code ini mengonversi label menjadi format biner menggunakan encode.transform, kemudian men-tokenisasi teks untuk klasifikasi biner. Dataset pelatihan dan pengujian untuk klasifikasi biner kemudian dibungkus dalam objek TextClassificationDataset untuk digunakan dalam pelatihan model."
   ]
  },
  {
   "cell_type": "code",
   "execution_count": 186,
   "metadata": {},
   "outputs": [
    {
     "name": "stderr",
     "output_type": "stream",
     "text": [
      "loading configuration file config.json from cache at C:\\Users\\Fernaldy/.cache\\huggingface\\hub\\models--bert-base-uncased\\snapshots\\86b5e0934494bd15c9632b12f734a8a67f723594\\config.json\n",
      "Model config BertConfig {\n",
      "  \"_name_or_path\": \"bert-base-uncased\",\n",
      "  \"architectures\": [\n",
      "    \"BertForMaskedLM\"\n",
      "  ],\n",
      "  \"attention_probs_dropout_prob\": 0.1,\n",
      "  \"classifier_dropout\": null,\n",
      "  \"gradient_checkpointing\": false,\n",
      "  \"hidden_act\": \"gelu\",\n",
      "  \"hidden_dropout_prob\": 0.1,\n",
      "  \"hidden_size\": 768,\n",
      "  \"initializer_range\": 0.02,\n",
      "  \"intermediate_size\": 3072,\n",
      "  \"layer_norm_eps\": 1e-12,\n",
      "  \"max_position_embeddings\": 512,\n",
      "  \"model_type\": \"bert\",\n",
      "  \"num_attention_heads\": 12,\n",
      "  \"num_hidden_layers\": 12,\n",
      "  \"pad_token_id\": 0,\n",
      "  \"position_embedding_type\": \"absolute\",\n",
      "  \"transformers_version\": \"4.26.0\",\n",
      "  \"type_vocab_size\": 2,\n",
      "  \"use_cache\": true,\n",
      "  \"vocab_size\": 30522\n",
      "}\n",
      "\n",
      "loading weights file pytorch_model.bin from cache at C:\\Users\\Fernaldy/.cache\\huggingface\\hub\\models--bert-base-uncased\\snapshots\\86b5e0934494bd15c9632b12f734a8a67f723594\\pytorch_model.bin\n",
      "Some weights of the model checkpoint at bert-base-uncased were not used when initializing BertForSequenceClassification: ['cls.predictions.decoder.weight', 'cls.predictions.transform.LayerNorm.weight', 'cls.predictions.transform.dense.weight', 'cls.predictions.bias', 'cls.seq_relationship.bias', 'cls.seq_relationship.weight', 'cls.predictions.transform.LayerNorm.bias', 'cls.predictions.transform.dense.bias']\n",
      "- This IS expected if you are initializing BertForSequenceClassification from the checkpoint of a model trained on another task or with another architecture (e.g. initializing a BertForSequenceClassification model from a BertForPreTraining model).\n",
      "- This IS NOT expected if you are initializing BertForSequenceClassification from the checkpoint of a model that you expect to be exactly identical (initializing a BertForSequenceClassification model from a BertForSequenceClassification model).\n",
      "Some weights of BertForSequenceClassification were not initialized from the model checkpoint at bert-base-uncased and are newly initialized: ['classifier.weight', 'classifier.bias']\n",
      "You should probably TRAIN this model on a down-stream task to be able to use it for predictions and inference.\n"
     ]
    }
   ],
   "source": [
    "# Initialize binary classification model\n",
    "model_binary = AutoModelForSequenceClassification.from_pretrained(\n",
    "    model_name,\n",
    "    num_labels=2\n",
    ")"
   ]
  },
  {
   "cell_type": "code",
   "execution_count": 187,
   "metadata": {},
   "outputs": [
    {
     "name": "stderr",
     "output_type": "stream",
     "text": [
      "PyTorch: setting up devices\n",
      "The default value for the training argument `--report_to` will change in v5 (from all installed integrations to none). In v5, you will need to use `--report_to all` to get the same behavior as now. You should start updating your code and make this info disappear :-).\n"
     ]
    }
   ],
   "source": [
    "training_args_binary = TrainingArguments(\n",
    "    output_dir=\"./results_binary\",\n",
    "    evaluation_strategy=\"epoch\",\n",
    "    save_strategy=\"epoch\",\n",
    "    learning_rate=2e-5,\n",
    "    per_device_train_batch_size=16,\n",
    "    per_device_eval_batch_size=16,\n",
    "    num_train_epochs=3,\n",
    "    weight_decay=0.01,\n",
    "    logging_dir=\"./logs_binary\",\n",
    "    logging_steps=10,\n",
    "    load_best_model_at_end=True,\n",
    "    no_cuda=True\n",
    ")"
   ]
  },
  {
   "cell_type": "code",
   "execution_count": 188,
   "metadata": {},
   "outputs": [],
   "source": [
    "trainer_binary = Trainer(\n",
    "    model=model_binary,\n",
    "    args=training_args_binary,\n",
    "    train_dataset=train_dataset_binary,\n",
    "    eval_dataset=test_dataset_binary,\n",
    "    compute_metrics=compute_metrics\n",
    ")"
   ]
  },
  {
   "cell_type": "markdown",
   "metadata": {},
   "source": [
    "Code ini mengonfigurasi dan memulai pelatihan model dengan TrainingArguments untuk menetapkan parameter pelatihan seperti batch size, epoch, dan laju pembelajaran. Kemudian, Trainer digunakan untuk melatih model dengan dataset pelatihan dan pengujian serta metrik evaluasi yang telah ditentukan."
   ]
  },
  {
   "cell_type": "code",
   "execution_count": 189,
   "metadata": {},
   "outputs": [
    {
     "name": "stderr",
     "output_type": "stream",
     "text": [
      "c:\\Users\\Fernaldy\\AppData\\Local\\Programs\\Python\\Python37\\lib\\site-packages\\transformers\\optimization.py:310: FutureWarning: This implementation of AdamW is deprecated and will be removed in a future version. Use the PyTorch implementation torch.optim.AdamW instead, or set `no_deprecation_warning=True` to disable this warning\n",
      "  FutureWarning,\n",
      "***** Running training *****\n",
      "  Num examples = 80\n",
      "  Num Epochs = 3\n",
      "  Instantaneous batch size per device = 16\n",
      "  Total train batch size (w. parallel, distributed & accumulation) = 16\n",
      "  Gradient Accumulation steps = 1\n",
      "  Total optimization steps = 15\n",
      "  Number of trainable parameters = 109483778\n"
     ]
    },
    {
     "name": "stdout",
     "output_type": "stream",
     "text": [
      "====== Training Binary Model (Stage 1) ======\n"
     ]
    },
    {
     "name": "stderr",
     "output_type": "stream",
     "text": [
      " 33%|███▎      | 5/15 [00:24<00:49,  4.98s/it]***** Running Evaluation *****\n",
      "  Num examples = 20\n",
      "  Batch size = 16\n",
      "\n",
      "\u001b[A\n",
      "\u001b[Ac:\\Users\\Fernaldy\\AppData\\Local\\Programs\\Python\\Python37\\lib\\site-packages\\sklearn\\metrics\\_classification.py:1318: UndefinedMetricWarning: Precision is ill-defined and being set to 0.0 in labels with no predicted samples. Use `zero_division` parameter to control this behavior.\n",
      "  _warn_prf(average, modifier, msg_start, len(result))\n",
      "\n",
      "\n",
      "\u001b[A\u001b[A                                       \n",
      "                                              \n",
      " 33%|███▎      | 5/15 [00:26<00:49,  4.98s/it]\n",
      "\u001b[ASaving model checkpoint to ./results_binary\\checkpoint-5\n",
      "Configuration saved in ./results_binary\\checkpoint-5\\config.json\n"
     ]
    },
    {
     "name": "stdout",
     "output_type": "stream",
     "text": [
      "{'eval_loss': 0.6095015406608582, 'eval_accuracy': 0.75, 'eval_precision': 0.5625, 'eval_recall': 0.75, 'eval_f1': 0.6428571428571428, 'eval_runtime': 1.9481, 'eval_samples_per_second': 10.266, 'eval_steps_per_second': 1.027, 'epoch': 1.0}\n"
     ]
    },
    {
     "name": "stderr",
     "output_type": "stream",
     "text": [
      "Model weights saved in ./results_binary\\checkpoint-5\\pytorch_model.bin\n",
      " 67%|██████▋   | 10/15 [01:12<00:46,  9.30s/it]\n",
      " 67%|██████▋   | 10/15 [01:12<00:46,  9.30s/it]***** Running Evaluation *****\n",
      "  Num examples = 20\n",
      "  Batch size = 16\n"
     ]
    },
    {
     "name": "stdout",
     "output_type": "stream",
     "text": [
      "{'loss': 0.6589, 'learning_rate': 6.666666666666667e-06, 'epoch': 2.0}\n"
     ]
    },
    {
     "name": "stderr",
     "output_type": "stream",
     "text": [
      "\n",
      "\u001b[A\n",
      "\u001b[Ac:\\Users\\Fernaldy\\AppData\\Local\\Programs\\Python\\Python37\\lib\\site-packages\\sklearn\\metrics\\_classification.py:1318: UndefinedMetricWarning: Precision is ill-defined and being set to 0.0 in labels with no predicted samples. Use `zero_division` parameter to control this behavior.\n",
      "  _warn_prf(average, modifier, msg_start, len(result))\n",
      "\n",
      "\n",
      "\u001b[A\u001b[A                                       \n",
      "                                               \n",
      " 67%|██████▋   | 10/15 [01:16<00:46,  9.30s/it]\n",
      "\u001b[ASaving model checkpoint to ./results_binary\\checkpoint-10\n",
      "Configuration saved in ./results_binary\\checkpoint-10\\config.json\n"
     ]
    },
    {
     "name": "stdout",
     "output_type": "stream",
     "text": [
      "{'eval_loss': 0.5664868354797363, 'eval_accuracy': 0.75, 'eval_precision': 0.5625, 'eval_recall': 0.75, 'eval_f1': 0.6428571428571428, 'eval_runtime': 3.6441, 'eval_samples_per_second': 5.488, 'eval_steps_per_second': 0.549, 'epoch': 2.0}\n"
     ]
    },
    {
     "name": "stderr",
     "output_type": "stream",
     "text": [
      "Model weights saved in ./results_binary\\checkpoint-10\\pytorch_model.bin\n",
      "100%|██████████| 15/15 [01:43<00:00,  6.05s/it]***** Running Evaluation *****\n",
      "  Num examples = 20\n",
      "  Batch size = 16\n",
      "\n",
      "\u001b[A\n",
      "\u001b[Ac:\\Users\\Fernaldy\\AppData\\Local\\Programs\\Python\\Python37\\lib\\site-packages\\sklearn\\metrics\\_classification.py:1318: UndefinedMetricWarning: Precision is ill-defined and being set to 0.0 in labels with no predicted samples. Use `zero_division` parameter to control this behavior.\n",
      "  _warn_prf(average, modifier, msg_start, len(result))\n",
      "\n",
      "\n",
      "\u001b[A\u001b[A                                       \n",
      "                                               \n",
      "100%|██████████| 15/15 [01:45<00:00,  6.05s/it]\n",
      "\u001b[ASaving model checkpoint to ./results_binary\\checkpoint-15\n",
      "Configuration saved in ./results_binary\\checkpoint-15\\config.json\n"
     ]
    },
    {
     "name": "stdout",
     "output_type": "stream",
     "text": [
      "{'eval_loss': 0.5625196695327759, 'eval_accuracy': 0.75, 'eval_precision': 0.5625, 'eval_recall': 0.75, 'eval_f1': 0.6428571428571428, 'eval_runtime': 1.974, 'eval_samples_per_second': 10.132, 'eval_steps_per_second': 1.013, 'epoch': 3.0}\n"
     ]
    },
    {
     "name": "stderr",
     "output_type": "stream",
     "text": [
      "Model weights saved in ./results_binary\\checkpoint-15\\pytorch_model.bin\n",
      "\n",
      "\n",
      "Training completed. Do not forget to share your model on huggingface.co/models =)\n",
      "\n",
      "\n",
      "Loading best model from ./results_binary\\checkpoint-15 (score: 0.5625196695327759).\n",
      "\n",
      "100%|██████████| 15/15 [01:47<00:00,  7.18s/it]"
     ]
    },
    {
     "name": "stdout",
     "output_type": "stream",
     "text": [
      "{'train_runtime': 107.6447, 'train_samples_per_second': 2.23, 'train_steps_per_second': 0.139, 'train_loss': 0.6188090960184733, 'epoch': 3.0}\n"
     ]
    },
    {
     "name": "stderr",
     "output_type": "stream",
     "text": [
      "\n"
     ]
    },
    {
     "data": {
      "text/plain": [
       "TrainOutput(global_step=15, training_loss=0.6188090960184733, metrics={'train_runtime': 107.6447, 'train_samples_per_second': 2.23, 'train_steps_per_second': 0.139, 'train_loss': 0.6188090960184733, 'epoch': 3.0})"
      ]
     },
     "execution_count": 189,
     "metadata": {},
     "output_type": "execute_result"
    }
   ],
   "source": [
    "# Train and evaluate binary model\n",
    "print(\"====== Training Binary Model (Stage 1) ======\")\n",
    "trainer_binary.train()"
   ]
  },
  {
   "cell_type": "code",
   "execution_count": 190,
   "metadata": {},
   "outputs": [
    {
     "name": "stderr",
     "output_type": "stream",
     "text": [
      "***** Running Prediction *****\n",
      "  Num examples = 20\n",
      "  Batch size = 16\n"
     ]
    },
    {
     "name": "stdout",
     "output_type": "stream",
     "text": [
      "====== Evaluating Binary Model (Stage 1) ======\n"
     ]
    },
    {
     "name": "stderr",
     "output_type": "stream",
     "text": [
      "100%|██████████| 2/2 [00:00<00:00,  3.77it/s]c:\\Users\\Fernaldy\\AppData\\Local\\Programs\\Python\\Python37\\lib\\site-packages\\sklearn\\metrics\\_classification.py:1318: UndefinedMetricWarning: Precision is ill-defined and being set to 0.0 in labels with no predicted samples. Use `zero_division` parameter to control this behavior.\n",
      "  _warn_prf(average, modifier, msg_start, len(result))\n",
      "100%|██████████| 2/2 [00:00<00:00,  3.72it/s]\n"
     ]
    }
   ],
   "source": [
    "print(\"====== Evaluating Binary Model (Stage 1) ======\")\n",
    "predictions_binary = trainer_binary.predict(test_dataset_binary)\n",
    "y_pred_binary = np.argmax(predictions_binary.predictions, axis=-1)"
   ]
  },
  {
   "cell_type": "code",
   "execution_count": 191,
   "metadata": {},
   "outputs": [
    {
     "name": "stdout",
     "output_type": "stream",
     "text": [
      "Classification Report (Binary Model):\n",
      "\n",
      "              precision    recall  f1-score   support\n",
      "\n",
      "           0       0.00      0.00      0.00         5\n",
      "           1       0.75      1.00      0.86        15\n",
      "\n",
      "    accuracy                           0.75        20\n",
      "   macro avg       0.38      0.50      0.43        20\n",
      "weighted avg       0.56      0.75      0.64        20\n",
      "\n"
     ]
    },
    {
     "name": "stderr",
     "output_type": "stream",
     "text": [
      "c:\\Users\\Fernaldy\\AppData\\Local\\Programs\\Python\\Python37\\lib\\site-packages\\sklearn\\metrics\\_classification.py:1318: UndefinedMetricWarning: Precision and F-score are ill-defined and being set to 0.0 in labels with no predicted samples. Use `zero_division` parameter to control this behavior.\n",
      "  _warn_prf(average, modifier, msg_start, len(result))\n",
      "c:\\Users\\Fernaldy\\AppData\\Local\\Programs\\Python\\Python37\\lib\\site-packages\\sklearn\\metrics\\_classification.py:1318: UndefinedMetricWarning: Precision and F-score are ill-defined and being set to 0.0 in labels with no predicted samples. Use `zero_division` parameter to control this behavior.\n",
      "  _warn_prf(average, modifier, msg_start, len(result))\n",
      "c:\\Users\\Fernaldy\\AppData\\Local\\Programs\\Python\\Python37\\lib\\site-packages\\sklearn\\metrics\\_classification.py:1318: UndefinedMetricWarning: Precision and F-score are ill-defined and being set to 0.0 in labels with no predicted samples. Use `zero_division` parameter to control this behavior.\n",
      "  _warn_prf(average, modifier, msg_start, len(result))\n"
     ]
    }
   ],
   "source": [
    "print(\"Classification Report (Binary Model):\\n\")\n",
    "print(classification_report(binary_test_labels_encoded, y_pred_binary))"
   ]
  },
  {
   "cell_type": "markdown",
   "metadata": {},
   "source": [
    "Kelas Liga"
   ]
  },
  {
   "cell_type": "code",
   "execution_count": 192,
   "metadata": {},
   "outputs": [],
   "source": [
    "soccer_train_mask = binary_train_labels_encoded == 1\n",
    "soccer_test_mask = binary_test_labels_encoded == 1"
   ]
  },
  {
   "cell_type": "markdown",
   "metadata": {},
   "source": [
    "Code ini membuat masker biner (soccer_train_mask dan soccer_test_mask) untuk menandai data yang memiliki label \"Sepak Bola\" (encoded sebagai 1) pada dataset pelatihan dan pengujian. Masker ini digunakan untuk memilih data dengan label tersebut."
   ]
  },
  {
   "cell_type": "code",
   "execution_count": 193,
   "metadata": {},
   "outputs": [],
   "source": [
    "train_texts_stage2 = train_texts[soccer_train_mask]\n",
    "train_labels_stage2 = train_labels[soccer_train_mask]\n",
    "test_texts_stage2 = test_texts[soccer_test_mask]\n",
    "test_labels_stage2 = test_labels[soccer_test_mask]"
   ]
  },
  {
   "cell_type": "markdown",
   "metadata": {},
   "source": [
    "Code ini memfilter dataset pelatihan dan pengujian untuk hanya menyertakan teks dan label yang terkait dengan \"Sepak Bola\" (label yang bernilai 1) menggunakan masker yang telah dibuat sebelumnya (soccer_train_mask dan soccer_test_mask)."
   ]
  },
  {
   "cell_type": "code",
   "execution_count": 194,
   "metadata": {},
   "outputs": [],
   "source": [
    "# Map soccer-related labels to league categories\n",
    "league_label_encoder = LabelEncoder()\n",
    "league_label_encoder.fit([\"Liga Inggris\", \"Liga Indonesia\", \"Liga Spanyol\", \"Liga Italia\"])\n",
    "\n",
    "train_labels_stage2_encoded = league_label_encoder.transform(train_labels_stage2)\n",
    "test_labels_stage2_encoded = league_label_encoder.transform(test_labels_stage2)"
   ]
  },
  {
   "cell_type": "markdown",
   "metadata": {},
   "source": [
    "Code ini mengonversi label terkait sepak bola menjadi kategori liga dengan menggunakan LabelEncoder. Label yang ada pada dataset pelatihan dan pengujian (seperti \"Liga Inggris\", \"Liga Indonesia\", dll.) diubah menjadi format numerik yang sesuai untuk klasifikasi lebih lanjut."
   ]
  },
  {
   "cell_type": "code",
   "execution_count": 195,
   "metadata": {},
   "outputs": [],
   "source": [
    "# Tokenize data for soccer league classification\n",
    "tokens_train_2stage, labels_train_2stage = tokenize_and_encode(\n",
    "    train_texts_stage2, train_labels_stage2_encoded, tokenizer\n",
    ")\n",
    "tokens_test_2stage, labels_test_2stage = tokenize_and_encode(\n",
    "    test_texts_stage2, test_labels_stage2_encoded, tokenizer\n",
    ")"
   ]
  },
  {
   "cell_type": "markdown",
   "metadata": {},
   "source": [
    "Code ini men-tokenisasi teks untuk klasifikasi liga sepak bola, mengonversi teks pelatihan dan pengujian menjadi format yang dapat diproses oleh model, dan mengonversi label liga menjadi format numerik yang sesuai menggunakan fungsi tokenize_and_encode."
   ]
  },
  {
   "cell_type": "code",
   "execution_count": 196,
   "metadata": {},
   "outputs": [],
   "source": [
    "train_dataset_2stage = TextClassificationDataset(tokens_train_2stage, labels_train_2stage)\n",
    "test_dataset_2stage = TextClassificationDataset(tokens_test_2stage, labels_test_2stage)"
   ]
  },
  {
   "cell_type": "markdown",
   "metadata": {},
   "source": [
    "Code ini membuat dataset pelatihan dan pengujian untuk tahap kedua klasifikasi (liga sepak bola) dengan membungkus tokenized data dan label yang telah diproses ke dalam objek TextClassificationDataset."
   ]
  },
  {
   "cell_type": "code",
   "execution_count": 197,
   "metadata": {},
   "outputs": [
    {
     "name": "stderr",
     "output_type": "stream",
     "text": [
      "loading configuration file config.json from cache at C:\\Users\\Fernaldy/.cache\\huggingface\\hub\\models--bert-base-uncased\\snapshots\\86b5e0934494bd15c9632b12f734a8a67f723594\\config.json\n",
      "Model config BertConfig {\n",
      "  \"_name_or_path\": \"bert-base-uncased\",\n",
      "  \"architectures\": [\n",
      "    \"BertForMaskedLM\"\n",
      "  ],\n",
      "  \"attention_probs_dropout_prob\": 0.1,\n",
      "  \"classifier_dropout\": null,\n",
      "  \"gradient_checkpointing\": false,\n",
      "  \"hidden_act\": \"gelu\",\n",
      "  \"hidden_dropout_prob\": 0.1,\n",
      "  \"hidden_size\": 768,\n",
      "  \"id2label\": {\n",
      "    \"0\": \"LABEL_0\",\n",
      "    \"1\": \"LABEL_1\",\n",
      "    \"2\": \"LABEL_2\",\n",
      "    \"3\": \"LABEL_3\"\n",
      "  },\n",
      "  \"initializer_range\": 0.02,\n",
      "  \"intermediate_size\": 3072,\n",
      "  \"label2id\": {\n",
      "    \"LABEL_0\": 0,\n",
      "    \"LABEL_1\": 1,\n",
      "    \"LABEL_2\": 2,\n",
      "    \"LABEL_3\": 3\n",
      "  },\n",
      "  \"layer_norm_eps\": 1e-12,\n",
      "  \"max_position_embeddings\": 512,\n",
      "  \"model_type\": \"bert\",\n",
      "  \"num_attention_heads\": 12,\n",
      "  \"num_hidden_layers\": 12,\n",
      "  \"pad_token_id\": 0,\n",
      "  \"position_embedding_type\": \"absolute\",\n",
      "  \"transformers_version\": \"4.26.0\",\n",
      "  \"type_vocab_size\": 2,\n",
      "  \"use_cache\": true,\n",
      "  \"vocab_size\": 30522\n",
      "}\n",
      "\n",
      "loading weights file pytorch_model.bin from cache at C:\\Users\\Fernaldy/.cache\\huggingface\\hub\\models--bert-base-uncased\\snapshots\\86b5e0934494bd15c9632b12f734a8a67f723594\\pytorch_model.bin\n",
      "Some weights of the model checkpoint at bert-base-uncased were not used when initializing BertForSequenceClassification: ['cls.predictions.decoder.weight', 'cls.predictions.transform.LayerNorm.weight', 'cls.predictions.transform.dense.weight', 'cls.predictions.bias', 'cls.seq_relationship.bias', 'cls.seq_relationship.weight', 'cls.predictions.transform.LayerNorm.bias', 'cls.predictions.transform.dense.bias']\n",
      "- This IS expected if you are initializing BertForSequenceClassification from the checkpoint of a model trained on another task or with another architecture (e.g. initializing a BertForSequenceClassification model from a BertForPreTraining model).\n",
      "- This IS NOT expected if you are initializing BertForSequenceClassification from the checkpoint of a model that you expect to be exactly identical (initializing a BertForSequenceClassification model from a BertForSequenceClassification model).\n",
      "Some weights of BertForSequenceClassification were not initialized from the model checkpoint at bert-base-uncased and are newly initialized: ['classifier.weight', 'classifier.bias']\n",
      "You should probably TRAIN this model on a down-stream task to be able to use it for predictions and inference.\n"
     ]
    }
   ],
   "source": [
    "# Initialize soccer league classification model\n",
    "model_2stage = AutoModelForSequenceClassification.from_pretrained(\n",
    "    model_name,\n",
    "    num_labels=4\n",
    ")"
   ]
  },
  {
   "cell_type": "code",
   "execution_count": 198,
   "metadata": {},
   "outputs": [
    {
     "name": "stderr",
     "output_type": "stream",
     "text": [
      "PyTorch: setting up devices\n",
      "The default value for the training argument `--report_to` will change in v5 (from all installed integrations to none). In v5, you will need to use `--report_to all` to get the same behavior as now. You should start updating your code and make this info disappear :-).\n"
     ]
    }
   ],
   "source": [
    "training_args_2stage = TrainingArguments(\n",
    "    output_dir=\"./results_2stage\",\n",
    "    evaluation_strategy=\"epoch\",\n",
    "    save_strategy=\"epoch\",\n",
    "    learning_rate=2e-5,\n",
    "    per_device_train_batch_size=16,\n",
    "    per_device_eval_batch_size=16,\n",
    "    num_train_epochs=3,\n",
    "    weight_decay=0.01,\n",
    "    logging_dir=\"./logs_2stage\",\n",
    "    logging_steps=10,\n",
    "    load_best_model_at_end=True,\n",
    "    no_cuda=True\n",
    ")"
   ]
  },
  {
   "cell_type": "code",
   "execution_count": 199,
   "metadata": {},
   "outputs": [],
   "source": [
    "trainer_2stage = Trainer(\n",
    "    model=model_2stage,\n",
    "    args=training_args_2stage,\n",
    "    train_dataset=train_dataset_2stage,\n",
    "    eval_dataset=test_dataset_2stage,\n",
    "    compute_metrics=compute_metrics\n",
    ")"
   ]
  },
  {
   "cell_type": "markdown",
   "metadata": {},
   "source": [
    "Code ini mengonfigurasi dan memulai pelatihan model dengan TrainingArguments untuk menetapkan parameter pelatihan seperti batch size, epoch, dan laju pembelajaran. Kemudian, Trainer digunakan untuk melatih model dengan dataset pelatihan dan pengujian serta metrik evaluasi yang telah ditentukan."
   ]
  },
  {
   "cell_type": "code",
   "execution_count": 200,
   "metadata": {},
   "outputs": [
    {
     "name": "stderr",
     "output_type": "stream",
     "text": [
      "c:\\Users\\Fernaldy\\AppData\\Local\\Programs\\Python\\Python37\\lib\\site-packages\\transformers\\optimization.py:310: FutureWarning: This implementation of AdamW is deprecated and will be removed in a future version. Use the PyTorch implementation torch.optim.AdamW instead, or set `no_deprecation_warning=True` to disable this warning\n",
      "  FutureWarning,\n",
      "***** Running training *****\n",
      "  Num examples = 58\n",
      "  Num Epochs = 3\n",
      "  Instantaneous batch size per device = 16\n",
      "  Total train batch size (w. parallel, distributed & accumulation) = 16\n",
      "  Gradient Accumulation steps = 1\n",
      "  Total optimization steps = 12\n",
      "  Number of trainable parameters = 109485316\n"
     ]
    },
    {
     "name": "stdout",
     "output_type": "stream",
     "text": [
      "====== Training Soccer League Model (Stage 2) ======\n"
     ]
    },
    {
     "name": "stderr",
     "output_type": "stream",
     "text": [
      " 33%|███▎      | 4/12 [00:40<01:19,  9.94s/it]***** Running Evaluation *****\n",
      "  Num examples = 15\n",
      "  Batch size = 16\n",
      "\n",
      "\u001b[Ac:\\Users\\Fernaldy\\AppData\\Local\\Programs\\Python\\Python37\\lib\\site-packages\\sklearn\\metrics\\_classification.py:1318: UndefinedMetricWarning: Precision is ill-defined and being set to 0.0 in labels with no predicted samples. Use `zero_division` parameter to control this behavior.\n",
      "  _warn_prf(average, modifier, msg_start, len(result))\n",
      "                                              \n",
      "\u001b[A                                     \n",
      "\n",
      " 33%|███▎      | 4/12 [00:43<01:19,  9.94s/it]\n",
      "\u001b[A\n",
      "\u001b[ASaving model checkpoint to ./results_2stage\\checkpoint-4\n",
      "Configuration saved in ./results_2stage\\checkpoint-4\\config.json\n"
     ]
    },
    {
     "name": "stdout",
     "output_type": "stream",
     "text": [
      "{'eval_loss': 1.2386133670806885, 'eval_accuracy': 0.3333333333333333, 'eval_precision': 0.14285714285714285, 'eval_recall': 0.3333333333333333, 'eval_f1': 0.2, 'eval_runtime': 2.2115, 'eval_samples_per_second': 6.783, 'eval_steps_per_second': 0.452, 'epoch': 1.0}\n"
     ]
    },
    {
     "name": "stderr",
     "output_type": "stream",
     "text": [
      "Model weights saved in ./results_2stage\\checkpoint-4\\pytorch_model.bin\n",
      " 67%|██████▋   | 8/12 [01:02<00:22,  5.55s/it]***** Running Evaluation *****\n",
      "  Num examples = 15\n",
      "  Batch size = 16\n",
      "\n",
      "\u001b[Ac:\\Users\\Fernaldy\\AppData\\Local\\Programs\\Python\\Python37\\lib\\site-packages\\sklearn\\metrics\\_classification.py:1318: UndefinedMetricWarning: Precision is ill-defined and being set to 0.0 in labels with no predicted samples. Use `zero_division` parameter to control this behavior.\n",
      "  _warn_prf(average, modifier, msg_start, len(result))\n",
      "                                              \n",
      "\n",
      "\u001b[A\u001b[A                               \n",
      " 67%|██████▋   | 8/12 [01:03<00:22,  5.55s/it]\n",
      "\u001b[A\n",
      "\u001b[ASaving model checkpoint to ./results_2stage\\checkpoint-8\n",
      "Configuration saved in ./results_2stage\\checkpoint-8\\config.json\n"
     ]
    },
    {
     "name": "stdout",
     "output_type": "stream",
     "text": [
      "{'eval_loss': 1.1750582456588745, 'eval_accuracy': 0.6666666666666666, 'eval_precision': 0.6111111111111112, 'eval_recall': 0.6666666666666666, 'eval_f1': 0.6256410256410255, 'eval_runtime': 1.274, 'eval_samples_per_second': 11.774, 'eval_steps_per_second': 0.785, 'epoch': 2.0}\n"
     ]
    },
    {
     "name": "stderr",
     "output_type": "stream",
     "text": [
      "Model weights saved in ./results_2stage\\checkpoint-8\\pytorch_model.bin\n",
      "                                               \n",
      " 83%|████████▎ | 10/12 [01:13<00:11,  5.55s/it]"
     ]
    },
    {
     "name": "stdout",
     "output_type": "stream",
     "text": [
      "{'loss': 1.1807, 'learning_rate': 3.3333333333333333e-06, 'epoch': 2.5}\n"
     ]
    },
    {
     "name": "stderr",
     "output_type": "stream",
     "text": [
      "100%|██████████| 12/12 [01:21<00:00,  4.59s/it]***** Running Evaluation *****\n",
      "  Num examples = 15\n",
      "  Batch size = 16\n",
      "\n",
      "\u001b[Ac:\\Users\\Fernaldy\\AppData\\Local\\Programs\\Python\\Python37\\lib\\site-packages\\sklearn\\metrics\\_classification.py:1318: UndefinedMetricWarning: Precision is ill-defined and being set to 0.0 in labels with no predicted samples. Use `zero_division` parameter to control this behavior.\n",
      "  _warn_prf(average, modifier, msg_start, len(result))\n",
      "                                               \n",
      "\n",
      "\u001b[A\u001b[A                               \n",
      "100%|██████████| 12/12 [01:22<00:00,  4.59s/it]\n",
      "\u001b[A\n",
      "\u001b[ASaving model checkpoint to ./results_2stage\\checkpoint-12\n",
      "Configuration saved in ./results_2stage\\checkpoint-12\\config.json\n"
     ]
    },
    {
     "name": "stdout",
     "output_type": "stream",
     "text": [
      "{'eval_loss': 1.1476701498031616, 'eval_accuracy': 0.6666666666666666, 'eval_precision': 0.6111111111111112, 'eval_recall': 0.6666666666666666, 'eval_f1': 0.6256410256410255, 'eval_runtime': 1.3351, 'eval_samples_per_second': 11.235, 'eval_steps_per_second': 0.749, 'epoch': 3.0}\n"
     ]
    },
    {
     "name": "stderr",
     "output_type": "stream",
     "text": [
      "Model weights saved in ./results_2stage\\checkpoint-12\\pytorch_model.bin\n",
      "\n",
      "\n",
      "Training completed. Do not forget to share your model on huggingface.co/models =)\n",
      "\n",
      "\n",
      "Loading best model from ./results_2stage\\checkpoint-12 (score: 1.1476701498031616).\n",
      "                                               \n",
      "100%|██████████| 12/12 [01:24<00:00,  7.06s/it]"
     ]
    },
    {
     "name": "stdout",
     "output_type": "stream",
     "text": [
      "{'train_runtime': 84.6528, 'train_samples_per_second': 2.055, 'train_steps_per_second': 0.142, 'train_loss': 1.1765936215718586, 'epoch': 3.0}\n"
     ]
    },
    {
     "name": "stderr",
     "output_type": "stream",
     "text": [
      "\n"
     ]
    },
    {
     "data": {
      "text/plain": [
       "TrainOutput(global_step=12, training_loss=1.1765936215718586, metrics={'train_runtime': 84.6528, 'train_samples_per_second': 2.055, 'train_steps_per_second': 0.142, 'train_loss': 1.1765936215718586, 'epoch': 3.0})"
      ]
     },
     "execution_count": 200,
     "metadata": {},
     "output_type": "execute_result"
    }
   ],
   "source": [
    "# Train and evaluate soccer league classification model\n",
    "print(\"====== Training Soccer League Model (Stage 2) ======\")\n",
    "trainer_2stage.train()"
   ]
  },
  {
   "cell_type": "code",
   "execution_count": 201,
   "metadata": {},
   "outputs": [
    {
     "name": "stderr",
     "output_type": "stream",
     "text": [
      "***** Running Prediction *****\n",
      "  Num examples = 15\n",
      "  Batch size = 16\n"
     ]
    },
    {
     "name": "stdout",
     "output_type": "stream",
     "text": [
      "====== Evaluating Soccer League Model (Stage 2) ======\n"
     ]
    },
    {
     "name": "stderr",
     "output_type": "stream",
     "text": [
      "  0%|          | 0/1 [00:00<?, ?it/s]c:\\Users\\Fernaldy\\AppData\\Local\\Programs\\Python\\Python37\\lib\\site-packages\\sklearn\\metrics\\_classification.py:1318: UndefinedMetricWarning: Precision is ill-defined and being set to 0.0 in labels with no predicted samples. Use `zero_division` parameter to control this behavior.\n",
      "  _warn_prf(average, modifier, msg_start, len(result))\n",
      "100%|██████████| 1/1 [00:00<00:00, 333.17it/s]\n"
     ]
    }
   ],
   "source": [
    "print(\"====== Evaluating Soccer League Model (Stage 2) ======\")\n",
    "predictions_2stage = trainer_2stage.predict(test_dataset_2stage)\n",
    "y_pred_2stage = np.argmax(predictions_2stage.predictions, axis=-1)"
   ]
  },
  {
   "cell_type": "code",
   "execution_count": 202,
   "metadata": {},
   "outputs": [
    {
     "name": "stdout",
     "output_type": "stream",
     "text": [
      "Classification Report (Soccer League Model):\n",
      "\n",
      "              precision    recall  f1-score   support\n",
      "\n",
      "           0       0.83      0.71      0.77         7\n",
      "           1       0.56      0.83      0.67         6\n",
      "           2       0.00      0.00      0.00         1\n",
      "           3       0.00      0.00      0.00         1\n",
      "\n",
      "    accuracy                           0.67        15\n",
      "   macro avg       0.35      0.39      0.36        15\n",
      "weighted avg       0.61      0.67      0.63        15\n",
      "\n"
     ]
    },
    {
     "name": "stderr",
     "output_type": "stream",
     "text": [
      "c:\\Users\\Fernaldy\\AppData\\Local\\Programs\\Python\\Python37\\lib\\site-packages\\sklearn\\metrics\\_classification.py:1318: UndefinedMetricWarning: Precision and F-score are ill-defined and being set to 0.0 in labels with no predicted samples. Use `zero_division` parameter to control this behavior.\n",
      "  _warn_prf(average, modifier, msg_start, len(result))\n",
      "c:\\Users\\Fernaldy\\AppData\\Local\\Programs\\Python\\Python37\\lib\\site-packages\\sklearn\\metrics\\_classification.py:1318: UndefinedMetricWarning: Precision and F-score are ill-defined and being set to 0.0 in labels with no predicted samples. Use `zero_division` parameter to control this behavior.\n",
      "  _warn_prf(average, modifier, msg_start, len(result))\n",
      "c:\\Users\\Fernaldy\\AppData\\Local\\Programs\\Python\\Python37\\lib\\site-packages\\sklearn\\metrics\\_classification.py:1318: UndefinedMetricWarning: Precision and F-score are ill-defined and being set to 0.0 in labels with no predicted samples. Use `zero_division` parameter to control this behavior.\n",
      "  _warn_prf(average, modifier, msg_start, len(result))\n"
     ]
    }
   ],
   "source": [
    "print(\"Classification Report (Soccer League Model):\\n\")\n",
    "print(classification_report(test_labels_stage2_encoded, y_pred_2stage))"
   ]
  },
  {
   "cell_type": "markdown",
   "metadata": {},
   "source": [
    "Perbandingan 3 model klasifikasi"
   ]
  },
  {
   "cell_type": "markdown",
   "metadata": {},
   "source": [
    "Model 1-stage (Multiclass):\n",
    "\n",
    "Model ini menunjukkan kinerja yang buruk dengan nilai precision, recall, dan f1-score yang sangat rendah, terutama untuk kelas 2, 3, dan 4 (semua nilai 0).\n",
    "Akurasi model ini hanya 45%, dengan rata-rata makro dan rata-rata tertimbang yang sangat rendah, menunjukkan bahwa model kesulitan untuk mengklasifikasikan sebagian besar kelas.\n",
    "\n",
    "\n",
    "Model Binary (Sepak Bola vs Non-Sepak Bola):\n",
    "\n",
    "Model ini menunjukkan peningkatan yang signifikan dengan akurasi 75%. Precision dan recall untuk kelas 1 (Sepak Bola) sangat baik, dengan f1-score mencapai 0.86.\n",
    "Namun, model ini gagal mengklasifikasikan kelas 0 (Non-Sepak Bola) dengan baik, dengan precision dan recall yang nol. Ini mungkin karena ketidakseimbangan data atau model yang tidak cukup dilatih untuk menangani kelas ini.\n",
    "\n",
    "\n",
    "Model Soccer League (Liga Sepak Bola):\n",
    "\n",
    "Model ini menunjukkan kinerja yang lebih baik daripada model 1-stage tetapi masih kurang optimal, dengan akurasi 67%. Precision dan recall untuk kelas 0 (Liga Inggris) cukup baik, namun kelas lainnya (terutama kelas 2 dan 3) memiliki nilai yang sangat rendah.\n",
    "Rata-rata makro dan tertimbang menunjukkan adanya ketidakseimbangan dalam performa antar kelas.\n"
   ]
  },
  {
   "cell_type": "markdown",
   "metadata": {},
   "source": [
    "Secara keseluruhan, model binary lebih baik dalam mengklasifikasikan \"Sepak Bola\" vs \"Non-Sepak Bola\", sedangkan model Soccer League lebih baik dalam membedakan liga sepak bola, meskipun masih terdapat banyak ruang untuk perbaikan pada model 1-stage multiclass."
   ]
  }
 ],
 "metadata": {
  "kernelspec": {
   "display_name": "Python 3",
   "language": "python",
   "name": "python3"
  },
  "language_info": {
   "codemirror_mode": {
    "name": "ipython",
    "version": 3
   },
   "file_extension": ".py",
   "mimetype": "text/x-python",
   "name": "python",
   "nbconvert_exporter": "python",
   "pygments_lexer": "ipython3",
   "version": "3.7.6"
  }
 },
 "nbformat": 4,
 "nbformat_minor": 2
}
